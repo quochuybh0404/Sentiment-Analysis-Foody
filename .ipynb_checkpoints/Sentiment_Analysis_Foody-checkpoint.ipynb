{
 "cells": [
  {
   "cell_type": "code",
   "execution_count": 1,
   "id": "610f952a-696d-4293-b5d2-42017aeb58ce",
   "metadata": {},
   "outputs": [],
   "source": [
    "import numpy as np\n",
    "import pandas as pd\n",
    "import matplotlib.pyplot as plt\n",
    "import seaborn as sb\n",
    "import re\n",
    "import warnings\n",
    "warnings.filterwarnings('ignore')\n",
    "sb.set_style(\"darkgrid\")"
   ]
  },
  {
   "cell_type": "code",
   "execution_count": 2,
   "id": "093c76bc-a7fe-4c0a-9623-fee45cbd3f0a",
   "metadata": {},
   "outputs": [],
   "source": [
    "data = pd.read_csv('crawl_data/Foody.csv')"
   ]
  },
  {
   "cell_type": "code",
   "execution_count": 3,
   "id": "d2c2eeb2-8969-431b-8415-7ba9f5eed3eb",
   "metadata": {},
   "outputs": [
    {
     "name": "stdout",
     "output_type": "stream",
     "text": [
      "<class 'pandas.core.frame.DataFrame'>\n",
      "RangeIndex: 54124 entries, 0 to 54123\n",
      "Data columns (total 2 columns):\n",
      " #   Column    Non-Null Count  Dtype  \n",
      "---  ------    --------------  -----  \n",
      " 0   comments  54124 non-null  object \n",
      " 1   ratings   54124 non-null  float64\n",
      "dtypes: float64(1), object(1)\n",
      "memory usage: 845.8+ KB\n"
     ]
    }
   ],
   "source": [
    "data.info()"
   ]
  },
  {
   "cell_type": "code",
   "execution_count": 4,
   "id": "4f8f2f8f-65f7-4d92-99a0-05f864e34136",
   "metadata": {},
   "outputs": [
    {
     "data": {
      "text/html": [
       "<div>\n",
       "<style scoped>\n",
       "    .dataframe tbody tr th:only-of-type {\n",
       "        vertical-align: middle;\n",
       "    }\n",
       "\n",
       "    .dataframe tbody tr th {\n",
       "        vertical-align: top;\n",
       "    }\n",
       "\n",
       "    .dataframe thead th {\n",
       "        text-align: right;\n",
       "    }\n",
       "</style>\n",
       "<table border=\"1\" class=\"dataframe\">\n",
       "  <thead>\n",
       "    <tr style=\"text-align: right;\">\n",
       "      <th></th>\n",
       "      <th>comments</th>\n",
       "      <th>ratings</th>\n",
       "    </tr>\n",
       "  </thead>\n",
       "  <tbody>\n",
       "  </tbody>\n",
       "</table>\n",
       "</div>"
      ],
      "text/plain": [
       "Empty DataFrame\n",
       "Columns: [comments, ratings]\n",
       "Index: []"
      ]
     },
     "execution_count": 4,
     "metadata": {},
     "output_type": "execute_result"
    }
   ],
   "source": [
    "data[data.isna().any(axis=1)]"
   ]
  },
  {
   "cell_type": "code",
   "execution_count": 5,
   "id": "3ee8b922-260d-43a4-b0fa-40f9dec4daf5",
   "metadata": {},
   "outputs": [
    {
     "data": {
      "text/html": [
       "<div>\n",
       "<style scoped>\n",
       "    .dataframe tbody tr th:only-of-type {\n",
       "        vertical-align: middle;\n",
       "    }\n",
       "\n",
       "    .dataframe tbody tr th {\n",
       "        vertical-align: top;\n",
       "    }\n",
       "\n",
       "    .dataframe thead th {\n",
       "        text-align: right;\n",
       "    }\n",
       "</style>\n",
       "<table border=\"1\" class=\"dataframe\">\n",
       "  <thead>\n",
       "    <tr style=\"text-align: right;\">\n",
       "      <th></th>\n",
       "      <th>comments</th>\n",
       "      <th>ratings</th>\n",
       "    </tr>\n",
       "  </thead>\n",
       "  <tbody>\n",
       "  </tbody>\n",
       "</table>\n",
       "</div>"
      ],
      "text/plain": [
       "Empty DataFrame\n",
       "Columns: [comments, ratings]\n",
       "Index: []"
      ]
     },
     "execution_count": 5,
     "metadata": {},
     "output_type": "execute_result"
    }
   ],
   "source": [
    "data[data.isnull().any(axis=1)]"
   ]
  },
  {
   "cell_type": "code",
   "execution_count": 6,
   "id": "cf1755bc-7f14-40e4-8ee3-05fd258e0d6f",
   "metadata": {},
   "outputs": [
    {
     "name": "stdout",
     "output_type": "stream",
     "text": [
      "Số review bị trùng lặp:  4665\n"
     ]
    }
   ],
   "source": [
    "print('Số review bị trùng lặp: ',data[data.duplicated()].shape[0])"
   ]
  },
  {
   "cell_type": "code",
   "execution_count": 7,
   "id": "452002fd-dac9-4b1f-b75a-588b98ae1e0b",
   "metadata": {},
   "outputs": [
    {
     "data": {
      "text/plain": [
       "(49459, 2)"
      ]
     },
     "execution_count": 7,
     "metadata": {},
     "output_type": "execute_result"
    }
   ],
   "source": [
    "# Loại bỏ review bị trùng lặp\n",
    "data = data.drop_duplicates()\n",
    "data.shape"
   ]
  },
  {
   "cell_type": "code",
   "execution_count": 8,
   "id": "2fe10c80-21c8-4ea2-9714-ac397e11ddb8",
   "metadata": {},
   "outputs": [],
   "source": [
    "data = data.reset_index()\n",
    "data = data.drop(columns = ['index'])"
   ]
  },
  {
   "cell_type": "code",
   "execution_count": 10,
   "id": "74f59353-e705-4f30-872b-e8413706fd72",
   "metadata": {},
   "outputs": [],
   "source": [
    "data['comments'] = data.comments.str.lower()  #chuyển kí tự in hoa sang chữ thường\n",
    "\n",
    "data['comments'] = data.comments.str.replace('\\.',' ') #bỏ một số kí tự đặc biệt ngăn cách câu\n",
    "data['comments'] = data.comments.str.replace(',',' ') #bỏ một số kí tự đặc biệt ngăn cách câu\n",
    "data['comments'] = data.comments.str.replace('[0-9]+k|[0-9]+đ|[0-9]+vnd||[0-9]+vnđ','') #bỏ các cụm về giá \n",
    "data['comments'] = data.comments.str.replace( ':)','')\n",
    "data['comments'] = data.comments.str.replace( '🥰',' yêu ')\n",
    "data['comments'] = data.comments.str.replace( '😘',' yêu ')\n",
    "data['comments'] = data.comments.str.replace( 'app','')\n",
    "data['comments'] = data.comments.str.replace( ' add ',' thêm ')\n",
    "data['comments'] = data.comments.str.replace( 'tuyệt vơi','tuyệt vời')\n",
    "data['comments'] = data.comments.str.replace( 'tuyêth vời','tuyệt vời')\n",
    "data['comments'] = data.comments.str.replace( 'soang chảnh','sang chảnh')\n",
    "data['comments'] = data.comments.str.replace( 'chình ình','chình_ình')\n",
    "data['comments'] = data.comments.str.replace( ' ình ',' mình ')\n",
    "data['comments'] = data.comments.str.replace( ' tuyệ ',' tuyệt ')\n",
    "data['comments'] = data.comments.str.replace(' kb ',' không biết ')\n",
    "data['comments'] = data.comments.str.replace('chất kuwojng tuyệt vời','chất lượng tuyệt vời')\n",
    "data['comments'] = data.comments.str.replace('báh','bánh')\n",
    "data['comments'] = data.comments.str.replace(' xétăn ',' xét ăn ')\n",
    "data['comments'] = data.comments.str.replace(' xétchứ ',' xét chứ ')\n",
    "data['comments'] = data.comments.str.replace(' xétcũng ',' xét cũng ')\n",
    "data['comments'] = data.comments.str.replace(' xétchung ',' xét chung ')\n",
    "data['comments'] = data.comments.str.replace(' xétbên ',' xét bên ')\n",
    "data['comments'] = data.comments.str.replace(' xétbánh ',' xét bánh ')\n",
    "data['comments'] = data.comments.str.replace(' xétdở ',' xét dở ')\n",
    "data['comments'] = data.comments.str.replace(' xétđã ',' xét đã ')\n",
    "data['comments'] = data.comments.str.replace(' xétdiễn ',' xét diễn ')\n",
    "data['comments'] = data.comments.str.replace(' xétđồ ',' xét đồ ')\n",
    "data['comments'] = data.comments.str.replace(' xétlại ',' xét lại ')\n",
    "data['comments'] = data.comments.str.replace(' xétnày ',' xét này ')\n",
    "data['comments'] = data.comments.str.replace(' xétnèe ',' xét nè ')\n",
    "data['comments'] = data.comments.str.replace(' xétkhá ',' xét khá ')\n",
    "data['comments'] = data.comments.str.replace(' xétkhách ',' xét khách ')\n",
    "data['comments'] = data.comments.str.replace(' xétở ',' xét ở ')\n",
    "data['comments'] = data.comments.str.replace(' xétlà ',' xét là ')\n",
    "data['comments'] = data.comments.str.replace(' xétmọi ',' xét mọi ')\n",
    "data['comments'] = data.comments.str.replace(' xéttrên ',' xét trên ')\n",
    "data['comments'] = data.comments.str.replace(' xétnên ',' xét nên ')\n",
    "data['comments'] = data.comments.str.replace(' xétnói ',' xét nói ')\n",
    "data['comments'] = data.comments.str.replace(' xétquán ',' xét quán ')\n",
    "data['comments'] = data.comments.str.replace(' xéttừng ',' xét từng ')\n",
    "data['comments'] = data.comments.str.replace(' xétrồi ',' xét rồi ')\n",
    "data['comments'] = data.comments.str.replace(' xétthấy ',' xét thấy ')\n",
    "data['comments'] = data.comments.str.replace(' xétkỉu ',' xét kiểu ')\n",
    "data['comments'] = data.comments.str.replace(' xétkhông ',' xét không ')\n",
    "data['comments'] = data.comments.str.replace(' xétvề ',' xét về ')\n",
    "data['comments'] = data.comments.str.replace('xéthuhu','xét huhu')\n",
    "data['comments'] = data.comments.str.replace('xemiễn','xe miễn')\n",
    "data['comments'] = data.comments.str.replace(' k hề ',' không hề ')\n",
    "data['comments'] = data.comments.str.replace('đưpj','đẹp')\n",
    "data['comments'] = data.comments.str.replace('rẻe','rẻ')\n",
    "data['comments'] = data.comments.str.replace(' ưg ',' ưng ')\n",
    "data['comments'] = data.comments.str.replace(' bôg ',' bông ')\n",
    "data['comments'] = data.comments.str.replace(' uốg ',' uống ')\n",
    "data['comments'] = data.comments.str.replace(' mìh ',' mình ')\n",
    "data['comments'] = data.comments.str.replace(' rat ',' rất ')\n",
    "data['comments'] = data.comments.str.replace('râdt','rất')\n",
    "data['comments'] = data.comments.str.replace('báa','bá')\n",
    "data['comments'] = data.comments.str.replace('dmọi','đó mọi')\n",
    "data['comments'] = data.comments.str.replace('rata','rất')\n",
    "data['comments'] = data.comments.str.replace('dimớium','mới')\n",
    "data['comments'] = data.comments.str.replace(' nhuet65 ',' nhiệt ')\n",
    "data['comments'] = data.comments.str.replace(' mỳ ',' mì ')\n",
    "data['comments'] = data.comments.str.replace(' cmt ',' bình luận ')\n",
    "data['comments'] = data.comments.str.replace(' rv ',' nhận xét ')\n",
    "data['comments'] = data.comments.str.replace(' t ',' tao ')\n",
    "data['comments'] = data.comments.str.replace(' chea ',' chưa ')\n",
    "data['comments'] = data.comments.str.replace(' ngonn ',' ngon ')\n",
    "data['comments'] = data.comments.str.replace(' qay ',' quay ')\n",
    "data['comments'] = data.comments.str.replace(' faỉ ',' phải ')\n",
    "data['comments'] = data.comments.str.replace(' it ',' ít ')\n",
    "data['comments'] = data.comments.str.replace(' thàh ',' thành ')\n",
    "data['comments'] = data.comments.str.replace(' nnhaf ',' nhà ')\n",
    "data['comments'] = data.comments.str.replace(' nhiêud ',' nhiều ')\n",
    "data['comments'] = data.comments.str.replace('vọmg','vọng')\n",
    "data['comments'] = data.comments.str.replace(' nc ',' nước ')\n",
    "data['comments'] = data.comments.str.replace(' nuoc ',' nước ')\n",
    "data['comments'] = data.comments.str.replace(' nươc ',' nước ')\n",
    "data['comments'] = data.comments.str.replace(' ma91m ',' mắm ')\n",
    "data['comments'] = data.comments.str.replace(' muon1 ',' muốn ')\n",
    "data['comments'] = data.comments.str.replace(' muóin ',' muốn ')\n",
    "data['comments'] = data.comments.str.replace('deliverynow','')\n",
    "data['comments'] = data.comments.str.replace(' foody ',' ')\n",
    "data['comments'] = data.comments.str.replace(' grab ',' ')  \n",
    "data['comments'] = data.comments.str.replace(' baemin ',' ')    \n",
    "data['comments'] = data.comments.str.replace(' gojek ',' ')\n",
    "data['comments'] = data.comments.str.replace(' sale ',' ')\n",
    "data['comments'] = data.comments.str.replace(' fresh ',' sạch ')\n",
    "data['comments'] = data.comments.str.replace('tđộ','thái độ')\n",
    "data['comments'] = data.comments.str.replace('thái đô','thái độ')\n",
    "data['comments'] = data.comments.str.replace(' ún ',' uống ')\n",
    "data['comments'] = data.comments.str.replace(' ăm ',' ăn ')\n",
    "data['comments'] = data.comments.str.replace(' roàii ',' rồi ')\n",
    "data['comments'] = data.comments.str.replace(' đôg ',' đông ')\n",
    "data['comments'] = data.comments.str.replace(' cũg ',' cũng ')\n",
    "data['comments'] = data.comments.str.replace(' tơi ',' hơi ')\n",
    "data['comments'] = data.comments.str.replace(' mụt ',' một ')\n",
    "data['comments'] = data.comments.str.replace(' ok.',' được.')\n",
    "data['comments'] = data.comments.str.replace(' chut ',' chút ')\n",
    "data['comments'] = data.comments.str.replace('thíc hợp','thích hợp')\n",
    "data['comments'] = data.comments.str.replace('dêc thương','dễ thương')\n",
    "data['comments'] = data.comments.str.replace(' ai nă ',' ai ăn ')\n",
    "data['comments'] = data.comments.str.replace(' an vào lai ',' ăn vào lại ')\n",
    "data['comments'] = data.comments.str.replace(' an ngon ',' ăn ngon ')\n",
    "data['comments'] = data.comments.str.replace(' mọi nguoi ',' mọi người ')\n",
    "data['comments'] = data.comments.str.replace(' mieng thit ',' miếng thịt ')\n",
    "data['comments'] = data.comments.str.replace(' tranht hủ ',' tranh thủ ')\n",
    "data['comments'] = data.comments.str.replace(' mã km ',' mã khuyến mãi ')\n",
    "data['comments'] = data.comments.str.replace(' ơi kì ',' hơi kì ')\n",
    "data['comments'] = data.comments.str.replace(' nhà hàg ',' nhà hàng ')\n",
    "data['comments'] = data.comments.str.replace(' hợp lú ',' hợp lý ')\n",
    "data['comments'] = data.comments.str.replace(' lầm li ',' lầm lì ')\n",
    "data['comments'] = data.comments.str.replace(' fai bàn ',' phải bàn ')\n",
    "data['comments'] = data.comments.str.replace(' decor ',' trang trí ')\n",
    "data['comments'] = data.comments.str.replace(' decoration ',' trang trí ')\n",
    "data['comments'] = data.comments.str.replace(' lân chào ',' lần nào ')\n",
    "data['comments'] = data.comments.str.replace('thân thiệ','thân thiện')\n",
    "data['comments'] = data.comments.str.replace('bôi***quá','bôi bác quá')\n",
    "data['comments'] = data.comments.str.replace('delivery','')\n",
    "data['comments'] = data.comments.str.replace('amateur','nghiệp dư')\n",
    "data['comments'] = data.comments.str.replace('must try','phải thử')\n",
    "data['comments'] = data.comments.str.replace('must-try','phải thử')\n",
    "data['comments'] = data.comments.str.replace('gònnếu',' gòn nếu')\n",
    "data['comments'] = data.comments.str.replace('tíh $','tính tiền')\n",
    "data['comments'] = data.comments.str.replace('1 đi','một đi')\n",
    "data['comments'] = data.comments.str.replace(' món an ',' món ăn ')\n",
    "data['comments'] = data.comments.str.replace(' quá tặng ',' quán tặng ')\n",
    "data['comments'] = data.comments.str.replace('the mup’s cake','')\n",
    "data['comments'] = data.comments.str.replace('hợp lí','hợp lý')\n",
    "data['comments'] = data.comments.str.replace('phục vụ tê','phục vụ tệ')\n",
    "data['comments'] = data.comments.str.replace('k nhớ','không nhớ')\n",
    "data['comments'] = data.comments.str.replace('ko gian','không gian')\n",
    "data['comments'] = data.comments.str.replace('không gián','không gian')\n",
    "data['comments'] = data.comments.str.replace('chất lương','chất lượng')\n",
    "data['comments'] = data.comments.str.replace(' cuốitụi ',' cuối tụi ')\n",
    "data['comments'] = data.comments.str.replace(' soeeu ngon ',' siêu ngon ')\n",
    "data['comments'] = data.comments.str.replace('tôn tiền','tốn tiền')\n",
    "data['comments'] = data.comments.str.replace('bé chỗ này','né chỗ này')\n",
    "data['comments'] = data.comments.str.replace('giá phải chăng','giá hợp lý')\n",
    "data['comments'] = data.comments.str.replace('giá cả phải chăng','giá cả hợp lý')\n",
    "data['comments'] = data.comments.str.replace('ngọn đẹp mắt','ngon đẹp mắt')\n",
    "data['comments'] = data.comments.str.replace('ko bao h','không bao giờ')\n",
    "data['comments'] = data.comments.str.replace(' kbây giờ ',' không bao giờ ')\n",
    "data['comments'] = data.comments.str.replace('nc đang hoang','nói chuyện đàng hoàng')\n",
    "data['comments'] = data.comments.str.replace('mạt thi kênh kênh','mặt thì kênh kênh')\n",
    "data['comments'] = data.comments.str.replace('va an rat vua mieng','và ăn rất vừa miệng')\n",
    "data['comments'] = data.comments.str.replace('#khôngbaogioquaylai','không bao giờ quay lại')\n",
    "data['comments'] = data.comments.str.replace('khongbaogioquaylai','không bao giờ quay lại')\n",
    "data['comments'] = data.comments.str.replace('các loại món  từ đồ mặt','các loại món từ đồ mặn')\n",
    "data['comments'] = data.comments.str.replace('sot di kem thi vi ngot nước thit','sốt đi kèm thì vị ngọt nước thịt')\n",
    "data['comments'] = data.comments.str.replace('chu yeu la duong va nước bot se se','chủ yếu là đường và nước bột se se')\n",
    "data['comments'] = data.comments.str.replace('ăn nhieu nơi chua thay ai tiết kiệm nhu vậy .','ăn nhiều nơi chưa thấy ai tiết kiệm như vậy.')\n",
    "data['comments'] = data.comments.str.replace('minh phai dem len chao chien so va nem nem lai.','mình phải đem lên chảo chiên sơ và nêm nếm lại')\n",
    "data['comments'] = data.comments.str.replace('minh hay an ga truyen ky chi nhanh quan 5 rất ngon thay moi nguoi khen ben đay nhieu nen dặt ở đay an thử.that vọng tràn trề.gà rất tanh không ngọt thịt .va rất lạ mình an xong đánh giá thì không thấy bình luận của mình bên now','minh hay ăn gà truyền kỳ chi nhánh quận 5 rất ngon thấy mọi người khen ben đây nhiều nên đặt ở đây ăn thử.thất vọng tràn trề.gà rất tanh không ngọt thịt .và rất lạ mình ăn xong đánh giá thì không thấy bình luận của mình bên now')\n",
    "\n",
    "\n",
    "data['comments'] = data.comments.str.replace(r'(\\w)\\1*',r'\\1') #thay thế những từ lặp đi lặp lại như wowwwww => wow\n",
    "data['comments'] = data.comments.str.replace(r'\\b[kk]+\\b',' tốt ') # ít nhất 2 chữ kk liên tục đổi thành tốt\n",
    "data['comments'] = data.comments.str.replace('[^a-záàảãạăắằẳẵặâấầẩẫậéèẻẽẹêếềểễệóòỏõọôốồổỗộơớờởỡợíìỉĩịúùủũụưứừửữựýỳỷỹỵđ]',' ')\n",
    "data['comments'] = data.comments.str.replace(' [a-záàảãạăắằẳẵặâấầẩẫậéèẻẽẹêếềểễệóòỏõọôốồổỗộơớờởỡợíìỉĩịúùủũụưứừửữựýỳỷỹỵđ]{1} ',' ')\n",
    "khong = [' khg ', ' k ',' ko ', ' k0 ', ' kog ', ' đéo ', ' đếch ', ' nỏ ', ' not ', ' kg ', ' khôg ' , ' hok ', ' hông ', ' kô ', ' chẳng ', ' chẳg ', ' khỏi ', ' kh ', ' hong ', ' doesn t ', ' don t ', ' khong ']\n",
    "for c in khong:\n",
    "    data['comments'] = data.comments.str.replace(c,' không ')\n",
    "\n",
    "tot = [' gút ', ' good ', ' gud ', ' nice ', ' nicely ', ' perfect ', ' perfectly ']\n",
    "for c in tot:\n",
    "    data['comments'] = data.comments.str.replace(c,' tốt ')\n",
    "\n",
    "dc = [' đc ', ' dc ', ' dk ', ' đk ', ' dx ', ' đx ',  ' duoc ',' okie ', ' okey ', ' ô kê ', ' oke ', ' okay ', 'ok', ' oki ']\n",
    "for c in dc:\n",
    "    data['comments'] = data.comments.str.replace(c,' được ')\n",
    "\n",
    "thich = ['like', ' thik ', ' thix ', ' thjk ', ' thich ']\n",
    "for c in thich:\n",
    "    data['comments'] = data.comments.str.replace(c,' thích ')\n",
    "\n",
    "bthg = [' bt ', ' bth ', ' bthg ']\n",
    "for c in bthg:\n",
    "    data['comments'] = data.comments.str.replace(c,' bình thường ')\n",
    "\n",
    "ngon = [' mlem ', ' yummy ', ' nhon ', ' ngol ', ' delicious ', ' tasty ', ' wao ', ' wào ', ' wow ']\n",
    "for c in ngon:\n",
    "    data['comments'] = data.comments.str.replace(c,' ngon ')\n",
    "\n",
    "order = [' book ', 'order', ' ord ', ' od ' , ' oder ']\n",
    "for c in order:\n",
    "    data['comments'] = data.comments.str.replace(c,' đặt ')\n",
    "\n",
    "roi = [' r ', ' roi ', ' roài ', ' ròi ']\n",
    "for c in roi:\n",
    "    data['comments'] = data.comments.str.replace(c,' rồi ')\n",
    "\n",
    "thanks = [' tks ', ' thanks ', ' thank ', ' tanks ', ' tk ']\n",
    "for c in thanks:\n",
    "    data['comments'] = data.comments.str.replace(c,' cảm ơn ')\n",
    "\n",
    "biet = [' bik ', ' bík ', ' pjk ', ' pik ']\n",
    "for c in biet:\n",
    "    data['comments'] = data.comments.str.replace(c,' biết ')\n",
    "\n",
    "minh = [' m ', ' mik ']\n",
    "for  c in minh:\n",
    "    data['comments'] = data.comments.str.replace(c,' mình ')\n",
    "\n",
    "qua = [' qá ', ' wá ']\n",
    "for  c in qua:\n",
    "    data['comments'] = data.comments.str.replace(c,' quá ')\n",
    "\n",
    "cuoi = [' ha ha ', ' haha ', ' he he ', ' hehe ', ' hi hi ', ' hihi ', ' hj hj ', ' hjhj ', ' hêh ', ' cười ', ' cheers ', ' hihi ']\n",
    "for  c in cuoi:\n",
    "    data['comments'] = data.comments.str.replace(c,' cười ')\n",
    "\n",
    "te = [' shit ', ' cc ', ' sad ', ' poor ', ' worst ', ' disapointed ', ' tasteless ', ' disgusted ', ' bad ', ' fucking ']\n",
    "for  c in te:\n",
    "    data['comments'] = data.comments.str.replace(c,' tệ ')\n",
    "\n",
    "dat = [' expensive ', ' mắc ', ' overpriced ', ' overpirced ']\n",
    "for  c in dat:\n",
    "    data['comments'] = data.comments.str.replace(c,' đắt ')\n",
    "\n",
    "nv = [' nv ', ' nvien ', ' n.viên ']\n",
    "for c in nv:\n",
    "    data['comments'] = data.comments.str.replace(c,' nhân viên ')\n",
    "\n",
    "cheap = [' cheap ', ' gẻ ', ' ghẻ ']\n",
    "for c in cheap:\n",
    "    data['comments'] = data.comments.str.replace(c,' rẻ ')\n",
    "\n",
    "xs = [' fantastic ', ' excelent ', ' xúc xắc ', ' xuất sắccc ']\n",
    "for c in xs:\n",
    "    data['comments'] = data.comments.str.replace(c,' xuất_sắc ')\n",
    "\n",
    "rude = [' impolite ', ' rude ', ' láo ', ' mất dạy ', ' hỗn xược ', ' thô lỗ ']\n",
    "for c in rude:\n",
    "    data['comments'] = data.comments.str.replace(c,' bất lịch sự ')\n",
    "\n",
    "pv = [' pv ', ' pvu ']\n",
    "for c in pv:\n",
    "    data['comments'] = data.comments.str.replace(c,' phục vụ ')\n",
    "\n",
    "cmt = [' cmmt ', ' cmt ', ' comment ']\n",
    "for c in cmt:\n",
    "    data['comments'] = data.comments.str.replace(c,' bình luận ')\n",
    "\n",
    "truoc_day = [' trước kia ', ' trước đó ']\n",
    "for c in truoc_day:\n",
    "    data['comments'] = data.comments.str.replace(c,' trước đây ')\n",
    "    \n",
    "\n",
    "\n",
    "### --- Đổi 15k, 75k,... thành 15000, 75000,....\n",
    "# Hàm thay thế để chuyển \"k\" thành \"000\" và chuyển chuỗi thành số nguyên\n",
    "def replace_with_thousands(match):\n",
    "    return str(int(match.group(1)) * 1000)\n",
    "\n",
    "# Thay thế \"k\" bằng \"000\" và chuyển chuỗi thành số nguyên\n",
    "data['comments'] = data['comments'].apply(lambda x: re.sub(r'(\\d+)k', replace_with_thousands, x))\n",
    "\n",
    "\n",
    "\n",
    "# Biểu thức chính quy để bỏ các chữ cái kéo dài\n",
    "# Hàm thay thế để giữ lại chữ cái đầu tiên và loại bỏ các chữ cái kéo dài\n",
    "def remove_repeated_letters(match):\n",
    "    return match.group(1)\n",
    "\n",
    "# Thay thế các chữ cái kéo dài bằng các chữ cái duy nhất\n",
    "data['comments'] = data['comments'].apply(lambda x: re.sub(r'(\\w)(\\1{2,})', remove_repeated_letters, x))\n",
    "\n",
    "\n",
    "replace_list = {' ship ': ' giao hàng ', ' fody ': ' ứng dụng ',' tl ':' trả lời ',' r ':' rồi ','vs':'với','trể':'trễ','bh':'bây giờ',' ntn ':' như thế này ',\n",
    "                 'ms':'mới', ' hnay ':' hôm nay ', 'mn':'mọi người', 'dậy':'vậy',' dzay ':' vậy ',' wa ':' qua ', ' zui ':' vui ',' kbh ':' không bao giờ ',\n",
    "                 'nx':'nhận xét', ' dj ':' đi ', ' rùi ':' rồi ',' view ':' phong cảnh ','cx':'cũng',' kbiet ':' không biết ', ' review ':' nhận xét',\n",
    "                ' trc ':' trước ', ' bil ': ' hóa đơn', ' shiper ' : ' người vận chuyển ', 'shipper': 'người vận chuyển'  ,'check in': '', 'checkin':'',\n",
    "               'chick in':'', ' c ': ' chị ', ' t ': ' tôi ', ' a ':' anh ', ' j ': ' gì ', ' mún ': ' muốn ', ' ngag ': ' ngang ', ' ak ': ' à ',\n",
    "               ' complain ': ' phàn nàn ', ' free ': ' miễn phí ', ' free.': ' miễn phí.', ' phờ ri ': ' miễn phí ' ,' recommend ': ' đề xuất ', \n",
    "                ' cùg ': ' cùng ', ' nhưg ': ' nhưng ', 'qua loa': 'sơ sài', 'xơ sài': 'sơ sài','sơ xài': 'sơ sài', ' never ': ' không bao giờ ',\n",
    "                ' service ': ' phục vụ ', 'vui vẽ': 'vui vẻ', ' <3 ': ' yêu ', 'nghĩ dưỡng': 'nghỉ dưỡng', 'trung bìng': 'trung bình', \n",
    "                'bỗ duong': 'bổ dưỡng', 'đất mất': 'đẹp mắt', 'nice': 'tốt', ' soeeu đỉnh ': ' siêu đỉnh ', 'thân thiệnn': 'thân thiện',\n",
    "                'quay lại': 'trở lại', 'ghé lại': 'trở lại', 'thắc đắt': 'thắc mắc', ' củg ': ' củng ', ' take care ' : ' chăm sóc ',\n",
    "                'rất là': 'rất', 'quá là': 'quá', ' ròn ' : ' giòn ', 'welcome': 'chào đón', 'tiet kiem': 'tiết kiệm', ' siêu ': ' rất ',\n",
    "                ' cốc ': ' ly ', 'tí hon': 'nhỏ', ' kute ': ' dễ thương ', ' cute ': ' dễ thương ', ' best ': ' tuyệt vời ', 'very bad' : 'rất tệ',\n",
    "                'come back': 'trở lại', 'sang chảnh': 'sang trọng', 'luxury': 'sang trọng', 'cũng được': 'khá ngon', 'không quá': 'bình thường',\n",
    "                'thạm tệ': 'thậm tệ', 'công túa': 'công chúa', 'không bị': 'không', 'không được': 'không', 'service': 'phục vụ', 'xức xắc': 'xuất sắc',\n",
    "                'super': 'rất', 'không thấy chán': 'không chán', 'không thấy ngon': 'không ngon', 'không thấy no': 'không no', 'không thấy ngán': 'không ngán',\n",
    "                }\n",
    "\n",
    "for word, rep_word in replace_list.items():\n",
    "  data['comments'] = data.comments.str.replace(word,rep_word)\n",
    "\n",
    "\n",
    "data['comments'] = data.comments.str.replace(r'(\\s)\\1*',r'\\1') #thay thế những khoảng trắng lặp lại"
   ]
  },
  {
   "cell_type": "code",
   "execution_count": 11,
   "id": "0b6d6e6f-5d73-41e0-a2b5-0b8f8773921c",
   "metadata": {},
   "outputs": [],
   "source": [
    "def replace_word(text):\n",
    "    text = text.lower()  #chuyển kí tự in hoa sang chữ thường\n",
    "    \n",
    "    text = text.replace('\\.',' ') #bỏ một số kí tự đặc biệt ngăn cách câu\n",
    "    text = text.replace(',',' ') #bỏ một số kí tự đặc biệt ngăn cách câu\n",
    "    text = text.replace('[0-9]+k|[0-9]+đ|[0-9]+vnd||[0-9]+vnđ','') #bỏ các cụm về giá \n",
    "    text = text.replace( ':)','')\n",
    "    text = text.replace( '🥰',' yêu ')\n",
    "    text = text.replace( '😘',' yêu ')\n",
    "    text = text.replace( 'app','')\n",
    "    text = text.replace( ' add ',' thêm ')\n",
    "    text = text.replace( 'tuyệt vơi','tuyệt vời')\n",
    "    text = text.replace( 'tuyêth vời','tuyệt vời')\n",
    "    text = text.replace( 'soang chảnh','sang chảnh')\n",
    "    text = text.replace( 'chình ình','chình_ình')\n",
    "    text = text.replace( ' ình ',' mình ')\n",
    "    text = text.replace( ' tuyệ ',' tuyệt ')\n",
    "    text = text.replace(' kb ',' không biết ')\n",
    "    text = text.replace('báh','bánh')\n",
    "    text = text.replace(' k hề ',' không hề ')\n",
    "    text = text.replace('đưpj','đẹp')\n",
    "    text = text.replace('rẻe','rẻ')\n",
    "    text = text.replace(' ưg ',' ưng ')\n",
    "    text = text.replace(' bôg ',' bông ')\n",
    "    text = text.replace(' uốg ',' uống ')\n",
    "    text = text.replace(' mìh ',' mình ')\n",
    "    text = text.replace(' rat ',' rất ')\n",
    "    text = text.replace('râdt','rất')\n",
    "    text = text.replace('báa','bá')\n",
    "    text = text.replace('dmọi','đó mọi')\n",
    "    text = text.replace('rata','rất')\n",
    "    text = text.replace(' mỳ ',' mì ')\n",
    "    text = text.replace(' cmt ',' bình luận ')\n",
    "    text = text.replace(' rv ',' nhận xét ')\n",
    "    text = text.replace(' t ',' tao ')\n",
    "    text = text.replace(' chea ',' chưa ')\n",
    "    text = text.replace(' ngonn ',' ngon ')\n",
    "    text = text.replace(' qay ',' quay ')\n",
    "    text = text.replace(' faỉ ',' phải ')\n",
    "    text = text.replace(' it ',' ít ')\n",
    "    text = text.replace(' thàh ',' thành ')\n",
    "    text = text.replace(' nnhaf ',' nhà ')\n",
    "    text = text.replace(' nhiêud ',' nhiều ')\n",
    "    text = text.replace('vọmg','vọng')\n",
    "    text = text.replace(' nc ',' nước ')\n",
    "    text = text.replace(' nuoc ',' nước ')\n",
    "    text = text.replace(' nươc ',' nước ')\n",
    "    text = text.replace(' ma91m ',' mắm ')\n",
    "    text = text.replace(' muon1 ',' muốn ')\n",
    "    text = text.replace(' muóin ',' muốn ')\n",
    "    text = text.replace('deliverynow','')\n",
    "    text = text.replace(' foody ',' ')\n",
    "    text = text.replace(' grab ',' ')  \n",
    "    text = text.replace(' baemin ',' ')    \n",
    "    text = text.replace(' gojek ',' ')\n",
    "    text = text.replace(' sale ',' ')\n",
    "    text = text.replace(' fresh ',' sạch ')\n",
    "    text = text.replace('tđộ','thái độ')\n",
    "    text = text.replace('thái đô','thái độ')\n",
    "    text = text.replace(' ún ',' uống ')\n",
    "    text = text.replace(' ăm ',' ăn ')\n",
    "    text = text.replace(' roàii ',' rồi ')\n",
    "    text = text.replace(' đôg ',' đông ')\n",
    "    text = text.replace(' cũg ',' cũng ')\n",
    "    text = text.replace(' tơi ',' hơi ')\n",
    "    text = text.replace(' mụt ',' một ')\n",
    "    text = text.replace(' ok.',' được.')\n",
    "    text = text.replace(' chut ',' chút ')\n",
    "    text = text.replace('thíc hợp','thích hợp')\n",
    "    text = text.replace('dêc thương','dễ thương')\n",
    "    text = text.replace(' ai nă ',' ai ăn ')\n",
    "    text = text.replace(' an vào lai ',' ăn vào lại ')\n",
    "    text = text.replace(' an ngon ',' ăn ngon ')\n",
    "    text = text.replace(' mọi nguoi ',' mọi người ')\n",
    "    text = text.replace(' mieng thit ',' miếng thịt ')\n",
    "    text = text.replace(' tranht hủ ',' tranh thủ ')\n",
    "    text = text.replace(' mã km ',' mã khuyến mãi ')\n",
    "    text = text.replace(' ơi kì ',' hơi kì ')\n",
    "    text = text.replace(' nhà hàg ',' nhà hàng ')\n",
    "    text = text.replace(' hợp lú ',' hợp lý ')\n",
    "    text = text.replace(' lầm li ',' lầm lì ')\n",
    "    text = text.replace(' fai bàn ',' phải bàn ')\n",
    "    text = text.replace(' decor ',' trang trí ')\n",
    "    text = text.replace(' decoration ',' trang trí ')\n",
    "    text = text.replace(' lân chào ',' lần nào ')\n",
    "    text = text.replace('thân thiệ','thân thiện')\n",
    "    text = text.replace('delivery','')\n",
    "    text = text.replace('amateur','nghiệp dư')\n",
    "    text = text.replace('must try','phải thử')\n",
    "    text = text.replace('must-try','phải thử')\n",
    "    text = text.replace('gònnếu',' gòn nếu')\n",
    "    text = text.replace('tíh $','tính tiền')\n",
    "    text = text.replace('1 đi','một đi')\n",
    "    text = text.replace(' món an ',' món ăn ')\n",
    "    text = text.replace(' quá tặng ',' quán tặng ')\n",
    "    text = text.replace('hợp lí','hợp lý')\n",
    "    text = text.replace('phục vụ tê','phục vụ tệ')\n",
    "    text = text.replace('k nhớ','không nhớ')\n",
    "    text = text.replace('ko gian','không gian')\n",
    "    text = text.replace('không gián','không gian')\n",
    "    text = text.replace('chất lương','chất lượng')\n",
    "    text = text.replace(' cuốitụi ',' cuối tụi ')\n",
    "    text = text.replace(' soeeu ngon ',' siêu ngon ')\n",
    "    text = text.replace('tôn tiền','tốn tiền')\n",
    "    text = text.replace('bé chỗ này','né chỗ này')\n",
    "    text = text.replace('giá phải chăng','giá hợp lý')\n",
    "    text = text.replace('giá cả phải chăng','giá cả hợp lý')\n",
    "    text = text.replace('ngọn đẹp mắt','ngon đẹp mắt')\n",
    "    text = text.replace('ko bao h','không bao giờ')\n",
    "    text = text.replace(' kbây giờ ',' không bao giờ ')\n",
    "    text = text.replace('#khôngbaogioquaylai','không bao giờ quay lại')\n",
    "    text = text.replace('khongbaogioquaylai','không bao giờ quay lại')\n",
    "\n",
    "    \n",
    "    text = text.replace(r'(\\w)\\1*',r'\\1') #thay thế những từ lặp đi lặp lại như wowwwww => wow\n",
    "    text = text.replace(r'\\b[kk]+\\b',' tốt ') # ít nhất 2 chữ kk liên tục đổi thành tốt\n",
    "    text = text.replace('[^a-záàảãạăắằẳẵặâấầẩẫậéèẻẽẹêếềểễệóòỏõọôốồổỗộơớờởỡợíìỉĩịúùủũụưứừửữựýỳỷỹỵđ]',' ')\n",
    "    text = text.replace(' [a-záàảãạăắằẳẵặâấầẩẫậéèẻẽẹêếềểễệóòỏõọôốồổỗộơớờởỡợíìỉĩịúùủũụưứừửữựýỳỷỹỵđ]{1} ',' ')\n",
    "    khong = [' khg ', ' k ',' ko ', ' k0 ', ' kog ', ' đéo ', ' đếch ', ' nỏ ', ' not ', ' kg ', ' khôg ' , ' hok ', ' hông ', ' kô ', ' chẳng ', ' chẳg ', ' khỏi ', ' kh ', ' hong ', ' doesn t ', ' don t ', ' khong ']\n",
    "    for c in khong:\n",
    "        text = text.replace(c,' không ')\n",
    "    \n",
    "    tot = [' gút ', ' good ', ' gud ', ' nice ', ' nicely ', ' perfect ', ' perfectly ']\n",
    "    for c in tot:\n",
    "        text = text.replace(c,' tốt ')\n",
    "    \n",
    "    dc = [' đc ', ' dc ', ' dk ', ' đk ', ' dx ', ' đx ',  ' duoc ',' okie ', ' okey ', ' ô kê ', ' oke ', ' okay ', 'ok', ' oki ']\n",
    "    for c in dc:\n",
    "        text = text.replace(c,' được ')\n",
    "    \n",
    "    thich = ['like', ' thik ', ' thix ', ' thjk ', ' thich ']\n",
    "    for c in thich:\n",
    "        text = text.replace(c,' thích ')\n",
    "    \n",
    "    bthg = [' bt ', ' bth ', ' bthg ']\n",
    "    for c in bthg:\n",
    "        text = text.replace(c,' bình thường ')\n",
    "    \n",
    "    ngon = [' mlem ', ' yummy ', ' nhon ', ' ngol ', ' delicious ', ' tasty ', ' wao ', ' wào ', ' wow ']\n",
    "    for c in ngon:\n",
    "        text = text.replace(c,' ngon ')\n",
    "    \n",
    "    order = [' book ', 'order', ' ord ', ' od ' , ' oder ']\n",
    "    for c in order:\n",
    "        text = text.replace(c,' đặt ')\n",
    "    \n",
    "    roi = [' r ', ' roi ', ' roài ', ' ròi ']\n",
    "    for c in roi:\n",
    "        text = text.replace(c,' rồi ')\n",
    "    \n",
    "    thanks = [' tks ', ' thanks ', ' thank ', ' tanks ', ' tk ']\n",
    "    for c in thanks:\n",
    "        text = text.replace(c,' cảm ơn ')\n",
    "    \n",
    "    biet = [' bik ', ' bík ', ' pjk ', ' pik ']\n",
    "    for c in biet:\n",
    "        text = text.replace(c,' biết ')\n",
    "    \n",
    "    minh = [' m ', ' mik ']\n",
    "    for  c in minh:\n",
    "        text = text.replace(c,' mình ')\n",
    "    \n",
    "    qua = [' qá ', ' wá ']\n",
    "    for  c in qua:\n",
    "        text = text.replace(c,' quá ')\n",
    "    \n",
    "    cuoi = [' ha ha ', ' haha ', ' he he ', ' hehe ', ' hi hi ', ' hihi ', ' hj hj ', ' hjhj ', ' hêh ', ' cười ', ' cheers ', ' hihi ']\n",
    "    for  c in cuoi:\n",
    "        text = text.replace(c,' cười ')\n",
    "    \n",
    "    te = [' shit ', ' cc ', ' sad ', ' poor ', ' worst ', ' disapointed ', ' tasteless ', ' disgusted ', ' bad ', ' fucking ']\n",
    "    for  c in te:\n",
    "        text = text.replace(c,' tệ ')\n",
    "    \n",
    "    dat = [' expensive ', ' mắc ', ' overpriced ', ' overpirced ']\n",
    "    for  c in dat:\n",
    "        text = text.replace(c,' đắt ')\n",
    "    \n",
    "    nv = [' nv ', ' nvien ', ' n.viên ']\n",
    "    for c in nv:\n",
    "        text = text.replace(c,' nhân viên ')\n",
    "    \n",
    "    cheap = [' cheap ', ' gẻ ', ' ghẻ ']\n",
    "    for c in cheap:\n",
    "        text = text.replace(c,' rẻ ')\n",
    "    \n",
    "    xs = [' fantastic ', ' excelent ', ' xúc xắc ', ' xuất sắccc ']\n",
    "    for c in xs:\n",
    "        text = text.replace(c,' xuất_sắc ')\n",
    "    \n",
    "    rude = [' impolite ', ' rude ', ' láo ', ' mất dạy ', ' hỗn xược ', ' thô lỗ ']\n",
    "    for c in rude:\n",
    "        text = text.replace(c,' bất lịch sự ')\n",
    "    \n",
    "    pv = [' pv ', ' pvu ']\n",
    "    for c in pv:\n",
    "        text = text.replace(c,' phục vụ ')\n",
    "    \n",
    "    cmt = [' cmmt ', ' cmt ', ' comment ']\n",
    "    for c in cmt:\n",
    "        text = text.replace(c,' bình luận ')\n",
    "    \n",
    "    truoc_day = [' trước kia ', ' trước đó ']\n",
    "    for c in truoc_day:\n",
    "        text = text.replace(c,' trước đây ')\n",
    "        \n",
    "    \n",
    "    \n",
    "    ### --- Đổi 15k, 75k,... thành 15000, 75000,....\n",
    "    # Hàm thay thế để chuyển \"k\" thành \"000\" và chuyển chuỗi thành số nguyên\n",
    "    def replace_with_thousands(match):\n",
    "        return str(int(match.group(1)) * 1000)\n",
    "    \n",
    "    # Thay thế \"k\" bằng \"000\" và chuyển chuỗi thành số nguyên\n",
    "    text = re.sub(r'(\\d+)k', replace_with_thousands, text)\n",
    "    \n",
    "    \n",
    "    \n",
    "    # Biểu thức chính quy để bỏ các chữ cái kéo dài\n",
    "    # Hàm thay thế để giữ lại chữ cái đầu tiên và loại bỏ các chữ cái kéo dài\n",
    "    def remove_repeated_letters(match):\n",
    "        return match.group(1)\n",
    "    \n",
    "    # Thay thế các chữ cái kéo dài bằng các chữ cái duy nhất\n",
    "    text = re.sub(r'(\\w)(\\1{2,})', remove_repeated_letters, text)\n",
    "    \n",
    "    \n",
    "    replace_list = {' ship ': ' giao hàng ', ' fody ': ' ứng dụng ',' tl ':' trả lời ',' r ':' rồi ','vs':'với','trể':'trễ','bh':'bây giờ',' ntn ':' như thế này ',\n",
    "                     'ms':'mới', ' hnay ':' hôm nay ', 'mn':'mọi người', 'dậy':'vậy',' dzay ':' vậy ',' wa ':' qua ', ' zui ':' vui ',' kbh ':' không bao giờ ',\n",
    "                     'nx':'nhận xét', ' dj ':' đi ', ' rùi ':' rồi ',' view ':' phong cảnh ','cx':'cũng',' kbiet ':' không biết ', ' review ':' nhận xét',\n",
    "                    ' trc ':' trước ', ' bil ': ' hóa đơn', ' shiper ' : ' người vận chuyển ', 'shipper': 'người vận chuyển'  ,'check in': '', 'checkin':'',\n",
    "                   'chick in':'', ' c ': ' chị ', ' t ': ' tôi ', ' a ':' anh ', ' j ': ' gì ', ' mún ': ' muốn ', ' ngag ': ' ngang ', ' ak ': ' à ',\n",
    "                   ' complain ': ' phàn nàn ', ' free ': ' miễn phí ', ' free.': ' miễn phí.', ' phờ ri ': ' miễn phí ' ,' recommend ': ' đề xuất ', \n",
    "                    ' cùg ': ' cùng ', ' nhưg ': ' nhưng ', 'qua loa': 'sơ sài', 'xơ sài': 'sơ sài','sơ xài': 'sơ sài', ' never ': ' không bao giờ ',\n",
    "                    ' service ': ' phục vụ ', 'vui vẽ': 'vui vẻ', ' <3 ': ' yêu ', 'nghĩ dưỡng': 'nghỉ dưỡng', 'trung bìng': 'trung bình', \n",
    "                    'bỗ duong': 'bổ dưỡng', 'đất mất': 'đẹp mắt', 'nice': 'tốt', ' soeeu đỉnh ': ' siêu đỉnh ', 'thân thiệnn': 'thân thiện',\n",
    "                    'quay lại': 'trở lại', 'ghé lại': 'trở lại', 'thắc đắt': 'thắc mắc', ' củg ': ' củng ', ' take care ' : ' chăm sóc ',\n",
    "                    'rất là': 'rất', 'quá là': 'quá', ' ròn ' : ' giòn ', 'welcome': 'chào đón', 'tiet kiem': 'tiết kiệm', ' siêu ': ' rất ',\n",
    "                    ' cốc ': ' ly ', 'tí hon': 'nhỏ', ' kute ': ' dễ thương ', ' cute ': ' dễ thương ', ' best ': ' tuyệt vời ', 'very bad' : 'rất tệ',\n",
    "                    'come back': 'trở lại', 'sang chảnh': 'sang trọng', 'luxury': 'sang trọng', 'cũng được': 'khá ngon', 'không quá': 'bình thường',\n",
    "                    'thạm tệ': 'thậm tệ', 'công túa': 'công chúa', 'không bị': 'không', 'không được': 'không', 'service': 'phục vụ', 'xức xắc': 'xuất sắc',\n",
    "                    'super': 'rất', 'không thấy chán': 'không chán', 'không thấy ngon': 'không ngon', 'không thấy no': 'không no', 'không thấy ngán': 'không ngán',\n",
    "                    }\n",
    "    \n",
    "    for word, rep_word in replace_list.items():\n",
    "      text = text.replace(word,rep_word)\n",
    "    \n",
    "    \n",
    "    text = text.replace(r'(\\s)\\1*',r'\\1') #thay thế những khoảng trắng lặp lại\n",
    "    return text"
   ]
  },
  {
   "cell_type": "code",
   "execution_count": 12,
   "id": "4ce77859-d273-4612-8c6d-fb3c30f148db",
   "metadata": {},
   "outputs": [],
   "source": [
    "#add columns review_class:\n",
    "data['review_class'] = ['positive' if a >= 8 else 'negative' if a < 5 else 'neural' for a in data.ratings]\n",
    "#label encoder:\n",
    "data['review_class_num'] = [0 if x == 'positive'  else 1 if x == 'neural' else 2 for x in data.review_class]"
   ]
  },
  {
   "cell_type": "code",
   "execution_count": 13,
   "id": "485858ff-7988-44f6-a910-145d614525f9",
   "metadata": {},
   "outputs": [],
   "source": [
    "from underthesea import word_tokenize, pos_tag, sent_tokenize # sent_tokenize tách ra từ 1 văn bản thành nhiều câu\n",
    "import regex\n",
    "import demoji\n",
    "from pyvi import ViPosTagger, ViTokenizer\n",
    "import string"
   ]
  },
  {
   "cell_type": "code",
   "execution_count": 14,
   "id": "4419d0fd-4748-49d8-90c9-f8d4d476c1be",
   "metadata": {},
   "outputs": [],
   "source": [
    "##LOAD EMOJICON\n",
    "file = open('data/files/emojicon.txt', 'r', encoding=\"utf8\")\n",
    "emoji_lst = file.read().split('\\n')\n",
    "emoji_dict = {}\n",
    "for line in emoji_lst:\n",
    "    key, value = line.split('\\t')\n",
    "    emoji_dict[key] = str(\" \"+value)\n",
    "file.close()\n",
    "#################\n",
    "#LOAD TEENCODE\n",
    "file = open('data/files/teencode.txt', 'r', encoding=\"utf8\")\n",
    "teen_lst = file.read().split('\\n')\n",
    "teen_dict = {}\n",
    "for line in teen_lst:\n",
    "    key, value = line.split('\\t')\n",
    "    teen_dict[key] = str(value)\n",
    "file.close()\n",
    "###############\n",
    "#LOAD TRANSLATE ENGLISH -> VNMESE\n",
    "file = open('data/files/english-vnmese.txt', 'r', encoding=\"utf8\")\n",
    "english_lst = file.read().split('\\n')\n",
    "english_dict = {}\n",
    "for line in english_lst:\n",
    "    key, value = line.split('\\t')\n",
    "    english_dict[key] = str(value)\n",
    "file.close()\n",
    "################\n",
    "#LOAD wrong words\n",
    "file = open('data/files/wrong-word.txt', 'r', encoding=\"utf8\")\n",
    "wrong_lst = file.read().split('\\n')\n",
    "file.close()\n",
    "#################\n",
    "#LOAD STOPWORDS\n",
    "file = open('data/files/vietnamese-stopwords.txt', 'r', encoding=\"utf8\")\n",
    "stopwords_lst = file.read().split('\\n')\n",
    "file.close()"
   ]
  },
  {
   "cell_type": "code",
   "execution_count": 15,
   "id": "4577be80-6ed4-44eb-8a8c-e641a6a66606",
   "metadata": {},
   "outputs": [],
   "source": [
    "def process_text(text, emoji_dict, teen_dict, wrong_lst):\n",
    "# def process_text(text, emoji_dict, teen_dict):\n",
    "    document = text.lower()\n",
    "    document = document.replace(\"’\",'')\n",
    "    document = regex.sub(r'\\.+', \".\", document)\n",
    "    new_sentence =''\n",
    "    for sentence in sent_tokenize(document):\n",
    "        # if not(sentence.isascii()):\n",
    "        ###### CONVERT EMOJICON\n",
    "        sentence = ''.join(emoji_dict[word]+' ' if word in emoji_dict else word for word in list(sentence))\n",
    "        ###### CONVERT TEENCODE\n",
    "        sentence = ' '.join(teen_dict[word] if word in teen_dict else word for word in sentence.split())\n",
    "        ###### DEL Punctuation & Numbers\n",
    "        pattern = r'(?i)\\b[a-záàảãạăắằẳẵặâấầẩẫậéèẻẽẹêếềểễệóòỏõọôốồổỗộơớờởỡợíìỉĩịúùủũụưứừửữựýỳỷỹỵđ]+\\b'\n",
    "        sentence = ' '.join(regex.findall(pattern,sentence))\n",
    "        ###### DEL wrong words   \n",
    "        sentence = ' '.join('' if word in wrong_lst else word for word in sentence.split())\n",
    "        ###### english words  \n",
    "        # sentence = ' '.join(word if word not in dict_eng_vn.keys() else dict_eng_vn[word] for word in sentence.split())\n",
    "        new_sentence = new_sentence+ sentence + '. '                    \n",
    "    document = new_sentence  \n",
    "    #print(document)\n",
    "    ###### DEL excess blank space\n",
    "    document = regex.sub(r'\\s+', ' ', document).strip()\n",
    "    return document"
   ]
  },
  {
   "cell_type": "code",
   "execution_count": 16,
   "id": "06388ebd-4668-4418-a893-f6b5806863fc",
   "metadata": {},
   "outputs": [],
   "source": [
    "# Chuẩn hóa unicode tiếng việt\n",
    "def loaddicchar():\n",
    "    uniChars = \"àáảãạâầấẩẫậăằắẳẵặèéẻẽẹêềếểễệđìíỉĩịòóỏõọôồốổỗộơờớởỡợùúủũụưừứửữựỳýỷỹỵÀÁẢÃẠÂẦẤẨẪẬĂẰẮẲẴẶÈÉẺẼẸÊỀẾỂỄỆĐÌÍỈĨỊÒÓỎÕỌÔỒỐỔỖỘƠỜỚỞỠỢÙÚỦŨỤƯỪỨỬỮỰỲÝỶỸỴÂĂĐÔƠƯ\"\n",
    "    unsignChars = \"aaaaaaaaaaaaaaaaaeeeeeeeeeeediiiiiooooooooooooooooouuuuuuuuuuuyyyyyAAAAAAAAAAAAAAAAAEEEEEEEEEEEDIIIOOOOOOOOOOOOOOOOOOOUUUUUUUUUUUYYYYYAADOOU\"\n",
    "\n",
    "    dic = {}\n",
    "    char1252 = 'à|á|ả|ã|ạ|ầ|ấ|ẩ|ẫ|ậ|ằ|ắ|ẳ|ẵ|ặ|è|é|ẻ|ẽ|ẹ|ề|ế|ể|ễ|ệ|ì|í|ỉ|ĩ|ị|ò|ó|ỏ|õ|ọ|ồ|ố|ổ|ỗ|ộ|ờ|ớ|ở|ỡ|ợ|ù|ú|ủ|ũ|ụ|ừ|ứ|ử|ữ|ự|ỳ|ý|ỷ|ỹ|ỵ|À|Á|Ả|Ã|Ạ|Ầ|Ấ|Ẩ|Ẫ|Ậ|Ằ|Ắ|Ẳ|Ẵ|Ặ|È|É|Ẻ|Ẽ|Ẹ|Ề|Ế|Ể|Ễ|Ệ|Ì|Í|Ỉ|Ĩ|Ị|Ò|Ó|Ỏ|Õ|Ọ|Ồ|Ố|Ổ|Ỗ|Ộ|Ờ|Ớ|Ở|Ỡ|Ợ|Ù|Ú|Ủ|Ũ|Ụ|Ừ|Ứ|Ử|Ữ|Ự|Ỳ|Ý|Ỷ|Ỹ|Ỵ'.split(\n",
    "        '|')\n",
    "    charutf8 = \"à|á|ả|ã|ạ|ầ|ấ|ẩ|ẫ|ậ|ằ|ắ|ẳ|ẵ|ặ|è|é|ẻ|ẽ|ẹ|ề|ế|ể|ễ|ệ|ì|í|ỉ|ĩ|ị|ò|ó|ỏ|õ|ọ|ồ|ố|ổ|ỗ|ộ|ờ|ớ|ở|ỡ|ợ|ù|ú|ủ|ũ|ụ|ừ|ứ|ử|ữ|ự|ỳ|ý|ỷ|ỹ|ỵ|À|Á|Ả|Ã|Ạ|Ầ|Ấ|Ẩ|Ẫ|Ậ|Ằ|Ắ|Ẳ|Ẵ|Ặ|È|É|Ẻ|Ẽ|Ẹ|Ề|Ế|Ể|Ễ|Ệ|Ì|Í|Ỉ|Ĩ|Ị|Ò|Ó|Ỏ|Õ|Ọ|Ồ|Ố|Ổ|Ỗ|Ộ|Ờ|Ớ|Ở|Ỡ|Ợ|Ù|Ú|Ủ|Ũ|Ụ|Ừ|Ứ|Ử|Ữ|Ự|Ỳ|Ý|Ỷ|Ỹ|Ỵ\".split(\n",
    "        '|')\n",
    "    for i in range(len(char1252)):\n",
    "        dic[char1252[i]] = charutf8[i]\n",
    "    return dic\n",
    " \n",
    "# Đưa toàn bộ dữ liệu qua hàm này để chuẩn hóa lại\n",
    "def convert_unicode(txt):\n",
    "    dicchar = loaddicchar()\n",
    "    return regex.sub(\n",
    "        r'à|á|ả|ã|ạ|ầ|ấ|ẩ|ẫ|ậ|ằ|ắ|ẳ|ẵ|ặ|è|é|ẻ|ẽ|ẹ|ề|ế|ể|ễ|ệ|ì|í|ỉ|ĩ|ị|ò|ó|ỏ|õ|ọ|ồ|ố|ổ|ỗ|ộ|ờ|ớ|ở|ỡ|ợ|ù|ú|ủ|ũ|ụ|ừ|ứ|ử|ữ|ự|ỳ|ý|ỷ|ỹ|ỵ|À|Á|Ả|Ã|Ạ|Ầ|Ấ|Ẩ|Ẫ|Ậ|Ằ|Ắ|Ẳ|Ẵ|Ặ|È|É|Ẻ|Ẽ|Ẹ|Ề|Ế|Ể|Ễ|Ệ|Ì|Í|Ỉ|Ĩ|Ị|Ò|Ó|Ỏ|Õ|Ọ|Ồ|Ố|Ổ|Ỗ|Ộ|Ờ|Ớ|Ở|Ỡ|Ợ|Ù|Ú|Ủ|Ũ|Ụ|Ừ|Ứ|Ử|Ữ|Ự|Ỳ|Ý|Ỷ|Ỹ|Ỵ',\n",
    "        lambda x: dicchar[x.group()], txt)"
   ]
  },
  {
   "cell_type": "code",
   "execution_count": 17,
   "id": "911b3c69-398d-4c5c-ba30-eac0f14ef285",
   "metadata": {},
   "outputs": [],
   "source": [
    "# có thể bổ sung thêm các từ: chẳng, chả...\n",
    "def process_special_word(text):\n",
    "    new_text = ''\n",
    "    text_lst = text.split()\n",
    "    i= 0\n",
    "    if 'không' in text_lst or 'rất' in text_lst or 'quá' in text_lst:\n",
    "        while i <= len(text_lst) - 1:\n",
    "            word = text_lst[i]\n",
    "            #print(word)\n",
    "            #print(i)\n",
    "            if  word == 'không' or word == 'rất' or  word == 'quá':\n",
    "                next_idx = i+1\n",
    "                if next_idx <= len(text_lst) -1:\n",
    "                    word = word +'_'+ text_lst[next_idx]\n",
    "                i= next_idx + 1\n",
    "            else:\n",
    "                i = i+1\n",
    "            new_text = new_text + word + ' '\n",
    "    else:\n",
    "        new_text = text\n",
    "    return new_text.strip()"
   ]
  },
  {
   "cell_type": "code",
   "execution_count": 18,
   "id": "7442296d-283e-4d25-bbdd-0f58232c5eed",
   "metadata": {},
   "outputs": [],
   "source": [
    "def process_postag_thesea(text):\n",
    "    new_document = ''\n",
    "    for sentence in sent_tokenize(text):\n",
    "        sentence = sentence.replace('.','')\n",
    "        ###### POS tag\n",
    "        lst_word_type = ['A','AB','V','VB','VY','R', 'M', 'N', 'C']\n",
    "        sentence = ' '.join( word[0] if word[1].upper() in lst_word_type else '' for word in pos_tag(process_special_word(word_tokenize(sentence, format=\"text\"))))\n",
    "        new_document = new_document + sentence + ' '\n",
    "    ###### DEL excess blank space\n",
    "    new_document = regex.sub(r'\\s+', ' ', new_document).strip()\n",
    "    return new_document"
   ]
  },
  {
   "cell_type": "code",
   "execution_count": 19,
   "id": "56ebf315-18dc-41a7-aa23-30cc017f7db4",
   "metadata": {},
   "outputs": [],
   "source": [
    "def remove_stopword(text, stopwords):\n",
    "\n",
    "    ###### REMOVE stop words\n",
    "    document = ' '.join('' if word in stopwords else word for word in text.split())\n",
    "    #print(document)\n",
    "    ###### DEL excess blank space\n",
    "    document = re.sub(r'\\s+', ' ', document).strip()\n",
    "    return document"
   ]
  },
  {
   "cell_type": "code",
   "execution_count": 20,
   "id": "5c497d6c-f6df-4335-ba15-5ab7d52564b8",
   "metadata": {},
   "outputs": [],
   "source": [
    "data['processed_comments'] = \"\"\n",
    "i = 0\n",
    "for comment in data['comments']:\n",
    "    document = process_text(comment, emoji_dict, teen_dict, wrong_lst)\n",
    "    document = convert_unicode(document)\n",
    "    document = process_postag_thesea(document)\n",
    "    document = remove_stopword(document,stopwords_lst)\n",
    "    data['processed_comments'][i] = document\n",
    "    i = i + 1"
   ]
  },
  {
   "cell_type": "code",
   "execution_count": 21,
   "id": "a3152ee1-f963-4cce-ad2a-31ca8c285069",
   "metadata": {},
   "outputs": [
    {
     "data": {
      "text/plain": [
       "0"
      ]
     },
     "execution_count": 21,
     "metadata": {},
     "output_type": "execute_result"
    }
   ],
   "source": [
    "data['processed_comments'].isnull().sum()"
   ]
  },
  {
   "cell_type": "code",
   "execution_count": 22,
   "id": "59280c45-e455-4553-83f7-76f0c4159cb4",
   "metadata": {},
   "outputs": [
    {
     "data": {
      "text/plain": [
       "0"
      ]
     },
     "execution_count": 22,
     "metadata": {},
     "output_type": "execute_result"
    }
   ],
   "source": [
    "count_empty_strings = (data['processed_comments'].apply(lambda x: x.isspace() if isinstance(x, str) else False)).sum()\n",
    "count_empty_strings"
   ]
  },
  {
   "cell_type": "code",
   "execution_count": 23,
   "id": "db32cdc0-55b8-4e79-9313-6ca9d105e488",
   "metadata": {},
   "outputs": [
    {
     "data": {
      "image/png": "[encoded data removed]",
      "text/plain": [
       "<Figure size 1400x700 with 2 Axes>"
      ]
     },
     "metadata": {},
     "output_type": "display_data"
    }
   ],
   "source": [
    "label = ['positive','neural','negative']\n",
    "plt.figure(figsize=(14,7))\n",
    "plt.subplot(1,2,1)\n",
    "sb.countplot(data.review_class,color='#0461b2')\n",
    "plt.subplot(1,2,2)\n",
    "plt.pie(data.review_class.value_counts(),labels=label,autopct='%1.1f%%');"
   ]
  },
  {
   "cell_type": "code",
   "execution_count": 24,
   "id": "6c98b706-f80e-4c18-8c00-ef2a8d253d13",
   "metadata": {},
   "outputs": [],
   "source": [
    "#Hàm xử lý count vectorizer:\n",
    "from sklearn.feature_extraction.text import CountVectorizer\n",
    "def count_vectorizer(data,max_features,n_gram,vocabulary):\n",
    "    cv = CountVectorizer(max_features=max_features,ngram_range=n_gram,stop_words=stop_words_list,vocabulary=vocabulary)\n",
    "    cv_transformed = cv.fit(data['processed_comments']).transform(data['processed_comments'])\n",
    "    cv_array = cv_transformed.toarray()\n",
    "    cv_df = pd.DataFrame(cv_array,columns=cv.get_feature_names())\n",
    "    data_temp = data.reset_index(drop=True)\n",
    "    cv_df.reset_index(drop=True,inplace=True)\n",
    "    #data_cv = pd.concat([data_temp,cv_df],axis=1,sort=False)\n",
    "    return cv_df"
   ]
  },
  {
   "cell_type": "code",
   "execution_count": 25,
   "id": "d1ec374a-ac2a-4278-9eca-915db7cc3789",
   "metadata": {},
   "outputs": [],
   "source": [
    "#Hàm xử lý bằng tf_idf\n",
    "from sklearn.feature_extraction.text import TfidfVectorizer, TfidfTransformer\n",
    "def tf_idf(data,max_features,n_gram,vocabulary):\n",
    "    tf = TfidfVectorizer(max_features=max_features,ngram_range=n_gram,vocabulary=vocabulary)\n",
    "    tf.fit_transform(data['processed_comments'])\n",
    "    tf_transfrom = tf.transform(data['processed_comments'])\n",
    "    tf_array = tf_transfrom.toarray()\n",
    "    tfdf = pd.DataFrame(tf_array,columns=tf.get_feature_names_out())\n",
    "    df_temp = data.reset_index(drop=True)\n",
    "    tfdf.reset_index(drop=True,inplace=True)\n",
    "    return tfdf"
   ]
  },
  {
   "cell_type": "code",
   "execution_count": 26,
   "id": "57d9ec8f-2cd9-41f8-a9fd-64fbd96a25b3",
   "metadata": {},
   "outputs": [],
   "source": [
    "#Sử dụng SVD để giảm chiều dữ liệu:\n",
    "\n",
    "def svd_function(X):\n",
    "  from sklearn.decomposition import TruncatedSVD\n",
    "  svd = TruncatedSVD(n_components=300, random_state=42)\n",
    "  X_svd = svd.fit(X).transform(X)\n",
    "  return X_svd"
   ]
  },
  {
   "cell_type": "code",
   "execution_count": 27,
   "id": "8ceeffaf-cc38-4c4d-b7a8-662e22a27900",
   "metadata": {},
   "outputs": [],
   "source": [
    "#Hàm cân bằng dữ liệu bằng under sampling:\n",
    "from imblearn.under_sampling import RandomUnderSampler\n",
    "def under_sampling(X,y):\n",
    "    X_train,X_test, y_train,y_test = train_test_split(X,y,random_state = 42)\n",
    "    rs = RandomUnderSampler()\n",
    "    X_train, y_train = rs.fit_resample(X_train,y_train)\n",
    "    return X_train,X_test, y_train,y_test"
   ]
  },
  {
   "cell_type": "code",
   "execution_count": 28,
   "id": "04a43791-dec9-4b92-bad5-41f4c928c78c",
   "metadata": {},
   "outputs": [],
   "source": [
    "#Hàm cân bằng dữ liệu bằng over sampling:\n",
    "from imblearn.over_sampling import RandomOverSampler, SMOTE\n",
    "def over_sampling(X,y):\n",
    "    X_train,X_test, y_train,y_test = train_test_split(X,y,random_state = 42)\n",
    "    X_train, y_train = RandomOverSampler().fit_resample(X_train,y_train)\n",
    "    return X_train,X_test, y_train,y_test"
   ]
  },
  {
   "cell_type": "code",
   "execution_count": 29,
   "id": "d0472687-319e-4da8-bce6-6dbfff5ab7f3",
   "metadata": {},
   "outputs": [],
   "source": [
    "# Viết function SelectKbest để chọn các biến có tương quan tốt nhất.\n",
    "def select_k_best_features(X,y, threshold=1.0):\n",
    "    from sklearn.feature_selection import SelectKBest\n",
    "    from sklearn.feature_selection import f_classif\n",
    "    #X_train, X_test, y_train, y_test = train_test_split(X,y,random_state = 42)\n",
    "\n",
    "    best_k_features = SelectKBest(score_func=f_classif, k='all')\n",
    "    #best_k_features.fit(X_train, y_train)\n",
    "    best_k_features.fit(X, y)\n",
    "    score = pd.Series(best_k_features.scores_)\n",
    "    col = pd.Series(X.columns)\n",
    "    result = pd.DataFrame({'Features': col, 'Score': score}).sort_values(by='Score', ascending=False)\n",
    "\n",
    "    #print(result)\n",
    "    plt.figure(figsize=(20,10))\n",
    "    result_ = result.iloc[:100]\n",
    "    plt.bar( result_.Features,result_.Score)\n",
    "    plt.xticks(rotation=90)\n",
    "\n",
    "    result_worst = result[result['Score'] < threshold]\n",
    "    features_worst = result_worst['Features'].to_list()\n",
    "    X_k_best = X.drop(features_worst,axis=1)\n",
    "    features_best = list(X_k_best.columns)\n",
    "    #return X_train[features], X_test[features], y_train, y_test\n",
    "    return X_k_best,features_best, features_worst,result"
   ]
  },
  {
   "cell_type": "code",
   "execution_count": 30,
   "id": "3985ed74-3acf-4a85-aedb-d76c7b8e1890",
   "metadata": {},
   "outputs": [],
   "source": [
    "#Tạo dataframe với tf_idf\n",
    "X_gram = tf_idf(data,3000,(1,2),None)\n",
    "#Output:\n",
    "y = data['review_class_num']"
   ]
  },
  {
   "cell_type": "code",
   "execution_count": 31,
   "id": "942a2744-8e4b-4024-ba37-f1a63ead0651",
   "metadata": {},
   "outputs": [
    {
     "data": {
      "image/png": "[encoded data removed]",
      "text/plain": [
       "<Figure size 2000x1000 with 1 Axes>"
      ]
     },
     "metadata": {},
     "output_type": "display_data"
    }
   ],
   "source": [
    "#Ta chọn các feature phù hợn nhất qua selectkbest\n",
    "X_tf,vocabulary, stop_words,result = select_k_best_features(X_gram,y,7)"
   ]
  },
  {
   "cell_type": "code",
   "execution_count": 32,
   "id": "2cf7e904-3ddc-4068-9cca-2c7683124faf",
   "metadata": {},
   "outputs": [],
   "source": [
    "from sklearn.model_selection import KFold, train_test_split, cross_validate\n",
    "\n",
    "#Dataset tạo bởi tf-idf không re-sampling:\n",
    "dataset_1 = train_test_split(X_tf,y)\n",
    "#Dataset tạo bởi tf-idf dùng under-sampling:\n",
    "dataset_2 = under_sampling(np.array(X_tf),y)\n",
    "#Dataset tạo bởi tf-idf dùng over-sampling:\n",
    "dataset_3 = over_sampling(np.array(X_tf),y)"
   ]
  },
  {
   "cell_type": "code",
   "execution_count": 33,
   "id": "e05ae5df-63d5-427f-959c-fc428d0597e0",
   "metadata": {},
   "outputs": [],
   "source": [
    "# Tạo list data-set:\n",
    "list_data_set = [\n",
    "             ('data tf-idf original', dataset_1),\n",
    "             ('data tf-idf under-sampling', dataset_2),\n",
    "             ('data tf-idf over-sampling', dataset_3)\n",
    "]"
   ]
  },
  {
   "cell_type": "code",
   "execution_count": 34,
   "id": "d8c4304d-1f6d-40b3-b30e-b774e8fdb21c",
   "metadata": {},
   "outputs": [],
   "source": [
    "from sklearn.linear_model import LogisticRegression, SGDClassifier\n",
    "from sklearn.naive_bayes import MultinomialNB,ComplementNB, GaussianNB\n",
    "from sklearn.svm import SVC, LinearSVC\n",
    "from sklearn.tree import DecisionTreeClassifier\n",
    "from sklearn.ensemble import RandomForestClassifier\n",
    "from sklearn.neighbors import KNeighborsClassifier\n",
    "import datetime\n",
    "from sklearn.metrics import accuracy_score\n",
    "import math\n",
    "from sklearn.ensemble import AdaBoostClassifier\n",
    "from xgboost import XGBClassifier"
   ]
  },
  {
   "cell_type": "code",
   "execution_count": 35,
   "id": "f39c11ec-57b6-4892-afe5-ebdd4335b53b",
   "metadata": {},
   "outputs": [],
   "source": [
    "# Chon k tu KNN\n",
    "def choose_k(X_train, X_test, Y_train, Y_test):\n",
    "    list_k = []\n",
    "    list_acc = []\n",
    "    for K_value in range(2, 11):\n",
    "    \n",
    "        list_k.append(K_value)\n",
    "        neigh = KNeighborsClassifier(n_neighbors = K_value)\n",
    "        neigh.fit(X_train, Y_train)\n",
    "        Y_pred = neigh.predict(X_test)\n",
    "        acc = accuracy_score(Y_test, Y_pred)*100\n",
    "        train_knn = neigh.score(X_train, Y_train)\n",
    "        test_knn = neigh.score(X_test, Y_test)\n",
    "        \n",
    "        list_acc.append(acc)\n",
    "        print('Accuracy is', accuracy_score(Y_test, Y_pred)*100, \"% for K-Value\", K_value)\n",
    "        print('Difference train vs test: ', abs(train_knn-test_knn),'\\n')\n",
    "    \n",
    "    vi_tri = list_acc.index(max(list_acc))\n",
    "    k = list_k[vi_tri]\n",
    "    return k"
   ]
  },
  {
   "cell_type": "code",
   "execution_count": null,
   "id": "7cbc5e58-84d5-4546-9fa9-59913454530b",
   "metadata": {},
   "outputs": [],
   "source": [
    "def model_comparison(x_train, x_test, y_train, y_test):\n",
    "    models = [LogisticRegression(),\n",
    "             MultinomialNB(),\n",
    "             SVC(kernel = 'linear'),\n",
    "             LinearSVC(),\n",
    "             KNeighborsClassifier(n_neighbors = choose_k(x_train, x_test, y_train, y_test)), \n",
    "             RandomForestClassifier(n_estimators=40),\n",
    "             DecisionTreeClassifier(),\n",
    "             SGDClassifier(),\n",
    "             AdaBoostClassifier(),\n",
    "             XGBClassifier()\n",
    "             ]\n",
    "\n",
    "    CV = 10\n",
    "    entries = []\n",
    "    i=0\n",
    "    for model in models:\n",
    "        scores_train = []\n",
    "        scores_test = []\n",
    "        acc_scores = []\n",
    "        times = []\n",
    "        abs_scores = []\n",
    "        for j in range(CV):\n",
    "            t1 = datetime.datetime.now()\n",
    "            model_name = model.__class__.__name__\n",
    "            model.fit(X_train,Y_train)\n",
    "            t2 = datetime.datetime.now()    \n",
    "            d = round((t2 - t1).microseconds/1000,1) # => miliseconds\n",
    "            score_train = model.score(x_train,y_train)\n",
    "            score_test = model.score(x_test,y_test)\n",
    "            Y_pred = model.predict(x_test)\n",
    "            abs_score = abs(score_train - score_test)\n",
    "            acc_score = accuracy_score(Y_pred, y_test)\n",
    "\n",
    "            scores_train.append(score_train)          \n",
    "            scores_test.append(score_test)\n",
    "            acc_scores.append(acc_score)\n",
    "            abs_scores.append(abs_score)\n",
    "            times.append(d) \n",
    "\n",
    "        entries.append([model_name, np.array(scores_train).mean(), \n",
    "                        np.array(scores_test).mean(), np.array(acc_scores).mean(), np.array(abs_scores).mean(), \n",
    "                        np.array(times).mean()])\n",
    "        i += 1\n",
    "    cv_df = pd.DataFrame(entries, \n",
    "                         columns=['model_name', 'score_train_mean', \n",
    "                                  'score_test_mean', 'acc_score_mean','abs|score|', 'time_mean'])\n",
    "    return cv_df"
   ]
  },
  {
   "cell_type": "code",
   "execution_count": null,
   "id": "c181df1a-6195-4f94-93d4-f3617ec0e902",
   "metadata": {},
   "outputs": [],
   "source": [
    "X_train, X_test, Y_train, Y_test = dataset_1\n",
    "model_comparison(X_train, X_test, Y_train, Y_test)"
   ]
  },
  {
   "cell_type": "markdown",
   "id": "eb1b6075-fef7-4a4d-a309-67795818b08d",
   "metadata": {},
   "source": [
    "### Dataset 2"
   ]
  },
  {
   "cell_type": "code",
   "execution_count": null,
   "id": "c7bffc31-e4b1-4213-8adb-b438d8a23499",
   "metadata": {},
   "outputs": [],
   "source": [
    "X_under_train, X_under_test, Y_under_train, Y_under_test = dataset_2\n",
    "model_comparison(X_under_train, X_under_test, Y_under_train, Y_under_test)"
   ]
  },
  {
   "cell_type": "markdown",
   "id": "2ebdf603-8d33-4d07-a3bf-59aed3cd7a57",
   "metadata": {},
   "source": [
    "### Dataset 3"
   ]
  },
  {
   "cell_type": "code",
   "execution_count": null,
   "id": "6c19b49e-6747-4413-9bfe-6b63315c9da6",
   "metadata": {},
   "outputs": [],
   "source": [
    "X_over_train, X_over_test, Y_over_train, Y_over_test = dataset_3\n",
    "model_comparison(X_over_train, X_over_test, Y_over_train, Y_over_test)"
   ]
  },
  {
   "cell_type": "code",
   "execution_count": 36,
   "id": "4db16ab6-7919-47fc-b5bf-27a9f4638e08",
   "metadata": {},
   "outputs": [],
   "source": [
    "from numpy import concatenate\n",
    "from sklearn.semi_supervised import LabelPropagation\n",
    "from numpy import concatenate\n",
    "from sklearn.feature_extraction.text import TfidfTransformer\n",
    "\n",
    "import os\n",
    "from sklearn.preprocessing import FunctionTransformer\n",
    "from sklearn.linear_model import SGDClassifier\n",
    "from sklearn.semi_supervised import SelfTrainingClassifier\n",
    "from sklearn.semi_supervised import LabelSpreading\n",
    "from sklearn.metrics import f1_score"
   ]
  },
  {
   "cell_type": "code",
   "execution_count": 37,
   "id": "29a39646-4520-4b2a-96bc-8578b6c2796c",
   "metadata": {},
   "outputs": [],
   "source": [
    "########################################################"
   ]
  },
  {
   "cell_type": "code",
   "execution_count": 38,
   "id": "abc4c87e-0be4-4894-89ba-e568dfb48a56",
   "metadata": {},
   "outputs": [
    {
     "name": "stdout",
     "output_type": "stream",
     "text": [
      "<class 'pandas.core.frame.DataFrame'>\n",
      "RangeIndex: 745 entries, 0 to 744\n",
      "Data columns (total 2 columns):\n",
      " #   Column    Non-Null Count  Dtype \n",
      "---  ------    --------------  ----- \n",
      " 0   comments  745 non-null    object\n",
      " 1   ratings   745 non-null    int64 \n",
      "dtypes: int64(1), object(1)\n",
      "memory usage: 11.8+ KB\n"
     ]
    }
   ],
   "source": [
    "data_labeled = pd.read_csv('labeled_data.csv')\n",
    "data_labeled.info()"
   ]
  },
  {
   "cell_type": "code",
   "execution_count": 39,
   "id": "8ecf966d-5308-4518-9608-6fba5dc85bf7",
   "metadata": {},
   "outputs": [
    {
     "name": "stdout",
     "output_type": "stream",
     "text": [
      "<class 'pandas.core.frame.DataFrame'>\n",
      "RangeIndex: 738 entries, 0 to 737\n",
      "Data columns (total 3 columns):\n",
      " #   Column    Non-Null Count  Dtype \n",
      "---  ------    --------------  ----- \n",
      " 0   index     738 non-null    int64 \n",
      " 1   comments  738 non-null    object\n",
      " 2   ratings   738 non-null    int64 \n",
      "dtypes: int64(2), object(1)\n",
      "memory usage: 17.4+ KB\n"
     ]
    }
   ],
   "source": [
    "data_labeled = data_labeled.drop_duplicates(subset='comments').reset_index()\n",
    "data_labeled.info()"
   ]
  },
  {
   "cell_type": "code",
   "execution_count": 40,
   "id": "7273a732-011e-4d9b-afb0-34c83d80ccbf",
   "metadata": {},
   "outputs": [],
   "source": [
    "data_labeled['processed_comments'] = \"\"\n",
    "i = 0\n",
    "for comment in data_labeled['comments']:\n",
    "    document = process_text(comment, emoji_dict, teen_dict, wrong_lst)\n",
    "    document = convert_unicode(document)\n",
    "    document = process_postag_thesea(document)\n",
    "    document = remove_stopword(document,stopwords_lst)\n",
    "    data_labeled['processed_comments'][i] = document\n",
    "    i = i + 1"
   ]
  },
  {
   "cell_type": "code",
   "execution_count": 41,
   "id": "0feba2e3-61cd-44c4-bddb-e2bc0f97983c",
   "metadata": {},
   "outputs": [],
   "source": [
    "data_labeled['review_class'] = ['positive' if a >= 8 else 'negative' if a < 5 else 'neural' for a in data_labeled.ratings]\n",
    "#label encoder:\n",
    "data_labeled['review_class_num'] = [0 if x == 'positive'  else 1 if x == 'neural' else 2 for x in data_labeled.review_class]"
   ]
  },
  {
   "cell_type": "code",
   "execution_count": 42,
   "id": "011b76fe-0bbe-4bc3-984f-9c09cc6c977e",
   "metadata": {},
   "outputs": [
    {
     "data": {
      "text/plain": [
       "(738, 2)"
      ]
     },
     "execution_count": 42,
     "metadata": {},
     "output_type": "execute_result"
    }
   ],
   "source": [
    "df_labeled = data_labeled[['processed_comments', 'review_class_num']]\n",
    "df_labeled.shape"
   ]
  },
  {
   "cell_type": "code",
   "execution_count": 43,
   "id": "da1b2f48-ba34-4b28-a0ff-05f50f738758",
   "metadata": {},
   "outputs": [
    {
     "data": {
      "text/plain": [
       "(49411, 5)"
      ]
     },
     "execution_count": 43,
     "metadata": {},
     "output_type": "execute_result"
    }
   ],
   "source": [
    "df_org = data.loc[~((data['comments'] == 'mì trộn thập cẩm') | (data['comments'].str.contains('pass voucher')) | \n",
    "                      (data['comments'].str.contains('cần bán voucher')))]\n",
    "df_org.shape"
   ]
  },
  {
   "cell_type": "code",
   "execution_count": 44,
   "id": "0b93b1e3-132a-4dd5-9a5f-7e925216bf36",
   "metadata": {},
   "outputs": [],
   "source": [
    "df_org = df_org[['processed_comments']]\n"
   ]
  },
  {
   "cell_type": "code",
   "execution_count": 45,
   "id": "1a783dd0-8618-44cc-ae5c-a15b4ffc3964",
   "metadata": {},
   "outputs": [
    {
     "data": {
      "text/plain": [
       "(48150, 1)"
      ]
     },
     "execution_count": 45,
     "metadata": {},
     "output_type": "execute_result"
    }
   ],
   "source": [
    "df_not_labeled = df_org[~df_org.processed_comments.isin(df_labeled.processed_comments.to_list())]\n",
    "df_not_labeled.shape"
   ]
  },
  {
   "cell_type": "code",
   "execution_count": 46,
   "id": "d502d4cd-7dec-4f35-a257-6ba292e2960c",
   "metadata": {},
   "outputs": [
    {
     "data": {
      "text/html": [
       "<div>\n",
       "<style scoped>\n",
       "    .dataframe tbody tr th:only-of-type {\n",
       "        vertical-align: middle;\n",
       "    }\n",
       "\n",
       "    .dataframe tbody tr th {\n",
       "        vertical-align: top;\n",
       "    }\n",
       "\n",
       "    .dataframe thead th {\n",
       "        text-align: right;\n",
       "    }\n",
       "</style>\n",
       "<table border=\"1\" class=\"dataframe\">\n",
       "  <thead>\n",
       "    <tr style=\"text-align: right;\">\n",
       "      <th></th>\n",
       "      <th>processed_comments</th>\n",
       "    </tr>\n",
       "  </thead>\n",
       "  <tbody>\n",
       "    <tr>\n",
       "      <th>0</th>\n",
       "      <td>tuyệt_vời</td>\n",
       "    </tr>\n",
       "    <tr>\n",
       "      <th>1</th>\n",
       "      <td>tuyệt_vời yêu</td>\n",
       "    </tr>\n",
       "    <tr>\n",
       "      <th>2</th>\n",
       "      <td>tuyệt_vời yêu</td>\n",
       "    </tr>\n",
       "    <tr>\n",
       "      <th>3</th>\n",
       "      <td>tuyệt_vời</td>\n",
       "    </tr>\n",
       "    <tr>\n",
       "      <th>4</th>\n",
       "      <td>tuyệt_vời yêu</td>\n",
       "    </tr>\n",
       "  </tbody>\n",
       "</table>\n",
       "</div>"
      ],
      "text/plain": [
       "  processed_comments\n",
       "0          tuyệt_vời\n",
       "1      tuyệt_vời yêu\n",
       "2      tuyệt_vời yêu\n",
       "3          tuyệt_vời\n",
       "4      tuyệt_vời yêu"
      ]
     },
     "execution_count": 46,
     "metadata": {},
     "output_type": "execute_result"
    }
   ],
   "source": [
    "df_not_labeled.head()"
   ]
  },
  {
   "cell_type": "code",
   "execution_count": 47,
   "id": "3cdbe964-0cb1-45a7-a946-1fdb192b3fb6",
   "metadata": {},
   "outputs": [
    {
     "data": {
      "text/html": [
       "<div>\n",
       "<style scoped>\n",
       "    .dataframe tbody tr th:only-of-type {\n",
       "        vertical-align: middle;\n",
       "    }\n",
       "\n",
       "    .dataframe tbody tr th {\n",
       "        vertical-align: top;\n",
       "    }\n",
       "\n",
       "    .dataframe thead th {\n",
       "        text-align: right;\n",
       "    }\n",
       "</style>\n",
       "<table border=\"1\" class=\"dataframe\">\n",
       "  <thead>\n",
       "    <tr style=\"text-align: right;\">\n",
       "      <th></th>\n",
       "      <th>processed_comments</th>\n",
       "      <th>review_class_num</th>\n",
       "    </tr>\n",
       "  </thead>\n",
       "  <tbody>\n",
       "    <tr>\n",
       "      <th>0</th>\n",
       "      <td>nằm_tâm đi_lại chuyên_đồ ẩm_thực_singapor hay ...</td>\n",
       "      <td>0.0</td>\n",
       "    </tr>\n",
       "    <tr>\n",
       "      <th>1</th>\n",
       "      <td>dòng_sẻ trước_tiên_lý ăn_nhánh rất_ngon ấn_tượ...</td>\n",
       "      <td>2.0</td>\n",
       "    </tr>\n",
       "    <tr>\n",
       "      <th>2</th>\n",
       "      <td>chục đồ_ăn_uống tiện lắm chiên cục hay bưng hà...</td>\n",
       "      <td>0.0</td>\n",
       "    </tr>\n",
       "    <tr>\n",
       "      <th>3</th>\n",
       "      <td>khô sợi to gà_mềm thơm</td>\n",
       "      <td>0.0</td>\n",
       "    </tr>\n",
       "    <tr>\n",
       "      <th>4</th>\n",
       "      <td>bánh_xèo to khô dầu_mỡ mùi_vị rất_bình_thường ...</td>\n",
       "      <td>2.0</td>\n",
       "    </tr>\n",
       "  </tbody>\n",
       "</table>\n",
       "</div>"
      ],
      "text/plain": [
       "                                  processed_comments  review_class_num\n",
       "0  nằm_tâm đi_lại chuyên_đồ ẩm_thực_singapor hay ...               0.0\n",
       "1  dòng_sẻ trước_tiên_lý ăn_nhánh rất_ngon ấn_tượ...               2.0\n",
       "2  chục đồ_ăn_uống tiện lắm chiên cục hay bưng hà...               0.0\n",
       "3                             khô sợi to gà_mềm thơm               0.0\n",
       "4  bánh_xèo to khô dầu_mỡ mùi_vị rất_bình_thường ...               2.0"
      ]
     },
     "execution_count": 47,
     "metadata": {},
     "output_type": "execute_result"
    }
   ],
   "source": [
    "df_final = pd.concat([df_labeled,df_not_labeled])\n",
    "df_final.head()"
   ]
  },
  {
   "cell_type": "code",
   "execution_count": 48,
   "id": "18006bb5-3251-4d6d-baf9-6fd0898e76d2",
   "metadata": {},
   "outputs": [
    {
     "data": {
      "text/html": [
       "<div>\n",
       "<style scoped>\n",
       "    .dataframe tbody tr th:only-of-type {\n",
       "        vertical-align: middle;\n",
       "    }\n",
       "\n",
       "    .dataframe tbody tr th {\n",
       "        vertical-align: top;\n",
       "    }\n",
       "\n",
       "    .dataframe thead th {\n",
       "        text-align: right;\n",
       "    }\n",
       "</style>\n",
       "<table border=\"1\" class=\"dataframe\">\n",
       "  <thead>\n",
       "    <tr style=\"text-align: right;\">\n",
       "      <th></th>\n",
       "      <th>processed_comments</th>\n",
       "      <th>review_class_num</th>\n",
       "    </tr>\n",
       "  </thead>\n",
       "  <tbody>\n",
       "    <tr>\n",
       "      <th>49454</th>\n",
       "      <td>tưởng ngờ sống khổng_lồ ăn_no bể bụng</td>\n",
       "      <td>NaN</td>\n",
       "    </tr>\n",
       "    <tr>\n",
       "      <th>49455</th>\n",
       "      <td>đông nướng chục rất_thật hay ổ giá hợp_lý ổ kh...</td>\n",
       "      <td>NaN</td>\n",
       "    </tr>\n",
       "    <tr>\n",
       "      <th>49456</th>\n",
       "      <td>thử đông giá ổn lề_đường hơi bụi lát lốt mỡ ch...</td>\n",
       "      <td>NaN</td>\n",
       "    </tr>\n",
       "    <tr>\n",
       "      <th>49457</th>\n",
       "      <td>giá_cả không_rẻ lề_đường đông đặc_biết tuần đồ...</td>\n",
       "      <td>NaN</td>\n",
       "    </tr>\n",
       "    <tr>\n",
       "      <th>49458</th>\n",
       "      <td>không_hối_hận lắm đồn hay không_mà ăn_hơi sống...</td>\n",
       "      <td>NaN</td>\n",
       "    </tr>\n",
       "  </tbody>\n",
       "</table>\n",
       "</div>"
      ],
      "text/plain": [
       "                                      processed_comments  review_class_num\n",
       "49454              tưởng ngờ sống khổng_lồ ăn_no bể bụng               NaN\n",
       "49455  đông nướng chục rất_thật hay ổ giá hợp_lý ổ kh...               NaN\n",
       "49456  thử đông giá ổn lề_đường hơi bụi lát lốt mỡ ch...               NaN\n",
       "49457  giá_cả không_rẻ lề_đường đông đặc_biết tuần đồ...               NaN\n",
       "49458  không_hối_hận lắm đồn hay không_mà ăn_hơi sống...               NaN"
      ]
     },
     "execution_count": 48,
     "metadata": {},
     "output_type": "execute_result"
    }
   ],
   "source": [
    "df_final.tail()"
   ]
  },
  {
   "cell_type": "code",
   "execution_count": 49,
   "id": "1d11706f-ce1e-4b81-9d0a-77c42db4099c",
   "metadata": {},
   "outputs": [
    {
     "data": {
      "text/html": [
       "<div>\n",
       "<style scoped>\n",
       "    .dataframe tbody tr th:only-of-type {\n",
       "        vertical-align: middle;\n",
       "    }\n",
       "\n",
       "    .dataframe tbody tr th {\n",
       "        vertical-align: top;\n",
       "    }\n",
       "\n",
       "    .dataframe thead th {\n",
       "        text-align: right;\n",
       "    }\n",
       "</style>\n",
       "<table border=\"1\" class=\"dataframe\">\n",
       "  <thead>\n",
       "    <tr style=\"text-align: right;\">\n",
       "      <th></th>\n",
       "      <th>processed_comments</th>\n",
       "      <th>review_class_num</th>\n",
       "    </tr>\n",
       "  </thead>\n",
       "  <tbody>\n",
       "    <tr>\n",
       "      <th>49454</th>\n",
       "      <td>tưởng ngờ sống khổng_lồ ăn_no bể bụng</td>\n",
       "      <td>-1.0</td>\n",
       "    </tr>\n",
       "    <tr>\n",
       "      <th>49455</th>\n",
       "      <td>đông nướng chục rất_thật hay ổ giá hợp_lý ổ kh...</td>\n",
       "      <td>-1.0</td>\n",
       "    </tr>\n",
       "    <tr>\n",
       "      <th>49456</th>\n",
       "      <td>thử đông giá ổn lề_đường hơi bụi lát lốt mỡ ch...</td>\n",
       "      <td>-1.0</td>\n",
       "    </tr>\n",
       "    <tr>\n",
       "      <th>49457</th>\n",
       "      <td>giá_cả không_rẻ lề_đường đông đặc_biết tuần đồ...</td>\n",
       "      <td>-1.0</td>\n",
       "    </tr>\n",
       "    <tr>\n",
       "      <th>49458</th>\n",
       "      <td>không_hối_hận lắm đồn hay không_mà ăn_hơi sống...</td>\n",
       "      <td>-1.0</td>\n",
       "    </tr>\n",
       "  </tbody>\n",
       "</table>\n",
       "</div>"
      ],
      "text/plain": [
       "                                      processed_comments  review_class_num\n",
       "49454              tưởng ngờ sống khổng_lồ ăn_no bể bụng              -1.0\n",
       "49455  đông nướng chục rất_thật hay ổ giá hợp_lý ổ kh...              -1.0\n",
       "49456  thử đông giá ổn lề_đường hơi bụi lát lốt mỡ ch...              -1.0\n",
       "49457  giá_cả không_rẻ lề_đường đông đặc_biết tuần đồ...              -1.0\n",
       "49458  không_hối_hận lắm đồn hay không_mà ăn_hơi sống...              -1.0"
      ]
     },
     "execution_count": 49,
     "metadata": {},
     "output_type": "execute_result"
    }
   ],
   "source": [
    "df_final.fillna(-1, inplace=True)\n",
    "df_final.tail()"
   ]
  },
  {
   "cell_type": "code",
   "execution_count": 50,
   "id": "d8f69c98-0ef4-43e6-bd35-46448f7c6e2b",
   "metadata": {},
   "outputs": [],
   "source": [
    "from sklearn.preprocessing import FunctionTransformer\n",
    "from sklearn.semi_supervised import SelfTrainingClassifier\n",
    "from sklearn.semi_supervised import LabelSpreading\n",
    "from sklearn.metrics import f1_score\n",
    "from imblearn.pipeline import Pipeline\n",
    "import os"
   ]
  },
  {
   "cell_type": "code",
   "execution_count": 51,
   "id": "17e570b6-5296-4988-b099-73228b3bae36",
   "metadata": {},
   "outputs": [],
   "source": [
    "from imblearn.pipeline import Pipeline\n",
    "# Parameters\n",
    "vectorizer_params = dict(ngram_range=(1, 2), min_df=5, max_df=0.85)\n",
    "logistic_params = dict(multi_class='multinomial', C=1, solver='saga', penalty='l1')\n",
    "SMOTE(random_state=42)\n",
    "# Supervised Pipeline\n",
    "pipeline = Pipeline(\n",
    "    [\n",
    "        (\"vect\", CountVectorizer(**vectorizer_params)),\n",
    "        (\"tfidf\", TfidfTransformer()),\n",
    "        ('oversampler', SMOTE()),\n",
    "        (\"clf\", LogisticRegression(**logistic_params)),\n",
    "\n",
    "    ]\n",
    ")\n",
    "# SelfTraining Pipeline\n",
    "st_pipeline = Pipeline(\n",
    "    [\n",
    "        (\"vect\", CountVectorizer(**vectorizer_params)),\n",
    "        (\"tfidf\", TfidfTransformer()),\n",
    "        ('oversampler', SMOTE()),\n",
    "        (\"clf\", SelfTrainingClassifier(LogisticRegression(**logistic_params), verbose=True)),\n",
    "    ]\n",
    ")\n",
    "# LabelSpreading Pipeline\n",
    "ls_pipeline = Pipeline(\n",
    "    [\n",
    "        (\"vect\", CountVectorizer(**vectorizer_params)),\n",
    "        (\"tfidf\", TfidfTransformer()),\n",
    "        ('oversampler', SMOTE()),\n",
    "        # LabelSpreading does not support dense matrices\n",
    "        (\"todense\", FunctionTransformer(lambda x: x.todense())),\n",
    "        (\"clf\", LabelSpreading())\n",
    "    ]\n",
    ")"
   ]
  },
  {
   "cell_type": "code",
   "execution_count": 52,
   "id": "b2ab90dd-37ca-4e00-ae11-7ab3b42428ab",
   "metadata": {},
   "outputs": [],
   "source": [
    "def eval_and_print_metrics(clf, X_train, y_train, X_test, y_test):\n",
    "    print(\"Number of training samples:\", len(X_train))\n",
    "    print(\"Unlabeled samples in training set:\", sum(1 for x in y_train if x == -1))\n",
    "    clf.fit(X_train, y_train)\n",
    "    y_pred = clf.predict(X_test)\n",
    "    print(\n",
    "        \"Micro-averaged F1 score on test set: %0.3f\"\n",
    "        % f1_score(y_test, y_pred, average=\"micro\")\n",
    "    )\n",
    "    print(\"-\" * 10)\n",
    "    print()"
   ]
  },
  {
   "cell_type": "code",
   "execution_count": 53,
   "id": "31db3f8c-73b6-4cc9-bc88-fd4b869d1484",
   "metadata": {},
   "outputs": [],
   "source": [
    "df_train = df_final[df_final.review_class_num >= 0]\n",
    "df_test = df_final[df_final.review_class_num < 0]"
   ]
  },
  {
   "cell_type": "code",
   "execution_count": 54,
   "id": "d4aebf1e-22db-49e0-9f21-bf969c63c705",
   "metadata": {},
   "outputs": [],
   "source": [
    "X_train, X_test, Y_train, Y_test = train_test_split(df_train['processed_comments'], df_train['review_class_num'])"
   ]
  },
  {
   "cell_type": "code",
   "execution_count": 55,
   "id": "3ad83b6a-3d5e-4f20-a3cb-d9ef53588a56",
   "metadata": {},
   "outputs": [
    {
     "data": {
      "text/plain": [
       "498    công không_muốn lầu xếp không_chịu công thái_đ...\n",
       "618    trở_lại rủ ăn_ở không_ấn_tượng nhỏ_xíu lâu phò...\n",
       "632    quá_hài_lòng thực_đơn tuyệt_vời đội_ngũ thân_t...\n",
       "521    đồ_ăn không_hề hình phô_mai lẩu tob phô_mai ch...\n",
       "701           dịch_vụ kém không_thân_thiện chẳng đặc_sắc\n",
       "Name: processed_comments, dtype: object"
      ]
     },
     "execution_count": 55,
     "metadata": {},
     "output_type": "execute_result"
    }
   ],
   "source": [
    "X_train.head()"
   ]
  },
  {
   "cell_type": "code",
   "execution_count": 56,
   "id": "e9eb2447-2589-4045-a266-a1b96545781c",
   "metadata": {},
   "outputs": [
    {
     "name": "stdout",
     "output_type": "stream",
     "text": [
      "Supervised LogisticClassifier on 20% of the training data:\n",
      "Number of training samples: 553\n",
      "Unlabeled samples in training set: 0\n",
      "Micro-averaged F1 score on test set: 0.751\n",
      "----------\n",
      "\n",
      "SelfTrainingClassifier on 20% of the training data (rest is unlabeled):\n",
      "Number of training samples: 553\n",
      "Unlabeled samples in training set: 0\n",
      "Micro-averaged F1 score on test set: 0.773\n",
      "----------\n",
      "\n"
     ]
    }
   ],
   "source": [
    "print(\"Supervised LogisticClassifier on 20% of the training data:\")\n",
    "eval_and_print_metrics(pipeline, X_train, Y_train, X_test, Y_test)\n",
    "\n",
    "# set the non-masked subset to be unlabeled\n",
    "print(\"SelfTrainingClassifier on 20% of the training data (rest is unlabeled):\")\n",
    "eval_and_print_metrics(st_pipeline, X_train, Y_train, X_test, Y_test)\n",
    "\n",
    "# if \"CI\" not in os.environ:\n",
    "#     # LabelSpreading takes too long to run in the online documentation\n",
    "#     print(\"LabelSpreading on 20% of the data (rest is unlabeled):\")\n",
    "#     eval_and_print_metrics(ls_pipeline, X_train, Y_train, X_test, Y_test)"
   ]
  },
  {
   "cell_type": "code",
   "execution_count": 57,
   "id": "8e6928a3-5546-4818-a2e5-1b0971bdd601",
   "metadata": {},
   "outputs": [],
   "source": [
    "model = st_pipeline.fit(X_train, Y_train)\n",
    "Y_pred = model.predict(df_test['processed_comments'])"
   ]
  },
  {
   "cell_type": "code",
   "execution_count": 58,
   "id": "e5f67abb-6e29-405f-8da3-7c9d176069f6",
   "metadata": {},
   "outputs": [],
   "source": [
    "df_test['review_class_num'] = Y_pred"
   ]
  },
  {
   "cell_type": "code",
   "execution_count": 60,
   "id": "1d52c494-91fb-4c96-b99f-d3b677e1b311",
   "metadata": {},
   "outputs": [],
   "source": [
    "df_new = pd.concat([df_train, df_test[['processed_comments', 'review_class_num']]], ignore_index=True)"
   ]
  },
  {
   "cell_type": "code",
   "execution_count": 68,
   "id": "1a280515-7f45-4b64-83f8-06da4464e789",
   "metadata": {},
   "outputs": [],
   "source": [
    "df_new.to_csv('Labeled_Foody_Review_from_model.csv', index=False)"
   ]
  },
  {
   "cell_type": "code",
   "execution_count": 69,
   "id": "42c95adf-1e39-4da7-9e29-56acef899dda",
   "metadata": {},
   "outputs": [
    {
     "data": {
      "text/html": [
       "<div>\n",
       "<style scoped>\n",
       "    .dataframe tbody tr th:only-of-type {\n",
       "        vertical-align: middle;\n",
       "    }\n",
       "\n",
       "    .dataframe tbody tr th {\n",
       "        vertical-align: top;\n",
       "    }\n",
       "\n",
       "    .dataframe thead th {\n",
       "        text-align: right;\n",
       "    }\n",
       "</style>\n",
       "<table border=\"1\" class=\"dataframe\">\n",
       "  <thead>\n",
       "    <tr style=\"text-align: right;\">\n",
       "      <th></th>\n",
       "      <th>processed_comments</th>\n",
       "      <th>review_class_num</th>\n",
       "    </tr>\n",
       "  </thead>\n",
       "  <tbody>\n",
       "    <tr>\n",
       "      <th>0</th>\n",
       "      <td>nằm_tâm đi_lại chuyên_đồ ẩm_thực_singapor hay ...</td>\n",
       "      <td>0.0</td>\n",
       "    </tr>\n",
       "    <tr>\n",
       "      <th>1</th>\n",
       "      <td>dòng_sẻ trước_tiên_lý ăn_nhánh rất_ngon ấn_tượ...</td>\n",
       "      <td>2.0</td>\n",
       "    </tr>\n",
       "    <tr>\n",
       "      <th>2</th>\n",
       "      <td>chục đồ_ăn_uống tiện lắm chiên cục hay bưng hà...</td>\n",
       "      <td>0.0</td>\n",
       "    </tr>\n",
       "    <tr>\n",
       "      <th>3</th>\n",
       "      <td>khô sợi to gà_mềm thơm</td>\n",
       "      <td>0.0</td>\n",
       "    </tr>\n",
       "    <tr>\n",
       "      <th>4</th>\n",
       "      <td>bánh_xèo to khô dầu_mỡ mùi_vị rất_bình_thường ...</td>\n",
       "      <td>2.0</td>\n",
       "    </tr>\n",
       "  </tbody>\n",
       "</table>\n",
       "</div>"
      ],
      "text/plain": [
       "                                  processed_comments  review_class_num\n",
       "0  nằm_tâm đi_lại chuyên_đồ ẩm_thực_singapor hay ...               0.0\n",
       "1  dòng_sẻ trước_tiên_lý ăn_nhánh rất_ngon ấn_tượ...               2.0\n",
       "2  chục đồ_ăn_uống tiện lắm chiên cục hay bưng hà...               0.0\n",
       "3                             khô sợi to gà_mềm thơm               0.0\n",
       "4  bánh_xèo to khô dầu_mỡ mùi_vị rất_bình_thường ...               2.0"
      ]
     },
     "execution_count": 69,
     "metadata": {},
     "output_type": "execute_result"
    }
   ],
   "source": [
    "df_new.head()"
   ]
  },
  {
   "cell_type": "code",
   "execution_count": 62,
   "id": "49630b71-32e5-475e-aad1-a5062eda345b",
   "metadata": {},
   "outputs": [],
   "source": [
    "# Tạo lại train test split từ datafame mới là df_new\n",
    "X_train, X_test, Y_train, Y_test = train_test_split(df_new['processed_comments'], df_new['review_class_num'], test_size=0.2)"
   ]
  },
  {
   "cell_type": "code",
   "execution_count": 63,
   "id": "989134fb-8913-4086-a2ba-a5e68ff083e7",
   "metadata": {},
   "outputs": [
    {
     "name": "stdout",
     "output_type": "stream",
     "text": [
      "Supervised LogisticRegressor\n",
      "Number of training samples: 39110\n",
      "Unlabeled samples in training set: 0\n",
      "Micro-averaged F1 score on test set: 0.959\n",
      "----------\n",
      "\n"
     ]
    }
   ],
   "source": [
    "print(\"Supervised LogisticRegressor\")\n",
    "eval_and_print_metrics(pipeline, X_train, Y_train, X_test, Y_test)"
   ]
  },
  {
   "cell_type": "code",
   "execution_count": 64,
   "id": "58bb7990-e5ee-4b74-af46-a8ca29915271",
   "metadata": {},
   "outputs": [],
   "source": [
    "model_new = pipeline.fit(X_train, Y_train)\n",
    "Y_pred = model_new.predict(X_test)"
   ]
  },
  {
   "cell_type": "code",
   "execution_count": 65,
   "id": "0e24df9d-52ac-4afe-8a92-ece9a1c2c5d5",
   "metadata": {},
   "outputs": [
    {
     "data": {
      "text/plain": [
       "0.968141140373306"
      ]
     },
     "execution_count": 65,
     "metadata": {},
     "output_type": "execute_result"
    }
   ],
   "source": [
    "model_new.score(X_train,Y_train)"
   ]
  },
  {
   "cell_type": "code",
   "execution_count": 66,
   "id": "073380f1-846e-4a48-9bc4-0c2a832307a8",
   "metadata": {},
   "outputs": [
    {
     "data": {
      "text/plain": [
       "0.9597054612395173"
      ]
     },
     "execution_count": 66,
     "metadata": {},
     "output_type": "execute_result"
    }
   ],
   "source": [
    "model_new.score(X_test,Y_test)"
   ]
  },
  {
   "cell_type": "code",
   "execution_count": 67,
   "id": "703feaa9-45ba-4bdb-a080-b79103200fbc",
   "metadata": {},
   "outputs": [
    {
     "name": "stdout",
     "output_type": "stream",
     "text": [
      "Classification report: \n",
      "               precision    recall  f1-score   support\n",
      "\n",
      "         0.0       0.99      0.96      0.98      6177\n",
      "         1.0       0.82      0.94      0.88       841\n",
      "         2.0       0.95      0.96      0.95      2760\n",
      "\n",
      "    accuracy                           0.96      9778\n",
      "   macro avg       0.92      0.95      0.94      9778\n",
      "weighted avg       0.96      0.96      0.96      9778\n",
      "\n"
     ]
    },
    {
     "data": {
      "image/png": "[encoded data removed]",
      "text/plain": [
       "<Figure size 640x480 with 1 Axes>"
      ]
     },
     "metadata": {},
     "output_type": "display_data"
    }
   ],
   "source": [
    "from sklearn.metrics import confusion_matrix, classification_report\n",
    "# print('Confusion matrix: \\n', confusion_matrix(Y_test, Y_pred))\n",
    "print('Classification report: \\n', classification_report(Y_test, Y_pred))\n",
    "classes = np.unique(Y_test)\n",
    "Y_test_array = pd.get_dummies(Y_test, drop_first=False).values\n",
    "## Plot confusion matrix\n",
    "cm = confusion_matrix(Y_test, Y_pred)\n",
    "fig, ax = plt.subplots()\n",
    "sb.heatmap(cm, annot=True, fmt='d', ax=ax, cmap=plt.cm.Blues, \n",
    "            cbar=False)\n",
    "ax.set(xlabel=\"Pred\", ylabel=\"True\", xticklabels=classes, \n",
    "       yticklabels=classes, title=\"Confusion matrix\")\n",
    "plt.yticks(rotation=0)\n",
    "plt.show()"
   ]
  },
  {
   "cell_type": "code",
   "execution_count": null,
   "id": "e8a630b5-8bd6-4102-bf36-17380d7e88e2",
   "metadata": {},
   "outputs": [],
   "source": [
    "text =\"Không gian quán rất thoải mái và thức ăn thật sự ngon miệng. Mình đã có một trải nghiệm tuyệt vời ở đây.\"\n",
    "document = replace_word(text)\n",
    "document = process_text(document, emoji_dict, teen_dict, wrong_lst)\n",
    "document = convert_unicode(document)\n",
    "document = process_postag_thesea(document)\n",
    "# document\n",
    "document = remove_stopword(document,stopwords_lst)\n",
    "yhat = model_new.predict([document])[0]\n",
    "if yhat== 0:\n",
    "    label = \"bình luận tích cực\"\n",
    "elif yhat== 1:\n",
    "    label = \"bình luận trung tính\"\n",
    "else:\n",
    "    label = \"bình luận tiêu cực\"\n",
    "print(label)\n",
    "#     print(proba, '\\n')\n",
    "print(document)"
   ]
  },
  {
   "cell_type": "code",
   "execution_count": null,
   "id": "ebc55ff1-e557-4a0a-afde-4300e37638c5",
   "metadata": {},
   "outputs": [],
   "source": [
    "pos_tag('sang trọng')"
   ]
  },
  {
   "cell_type": "code",
   "execution_count": null,
   "id": "553b03c4-0423-4e6a-b6db-c220e5d0859d",
   "metadata": {},
   "outputs": [],
   "source": [
    "####################################"
   ]
  },
  {
   "cell_type": "code",
   "execution_count": null,
   "id": "f78aefd8-2b46-4643-9db9-b4148c51e7b0",
   "metadata": {},
   "outputs": [],
   "source": []
  },
  {
   "cell_type": "code",
   "execution_count": null,
   "id": "2716c202-2191-415e-89ba-2385d69abd52",
   "metadata": {},
   "outputs": [],
   "source": []
  }
 ],
 "metadata": {
  "kernelspec": {
   "display_name": "Python 3 (ipykernel)",
   "language": "python",
   "name": "python3"
  },
  "language_info": {
   "codemirror_mode": {
    "name": "ipython",
    "version": 3
   },
   "file_extension": ".py",
   "mimetype": "text/x-python",
   "name": "python",
   "nbconvert_exporter": "python",
   "pygments_lexer": "ipython3",
   "version": "3.9.6"
  }
 },
 "nbformat": 4,
 "nbformat_minor": 5
}
